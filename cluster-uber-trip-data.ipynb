{
 "cells": [
  {
   "cell_type": "code",
   "execution_count": null,
   "metadata": {},
   "outputs": [],
   "source": []
  },
  {
   "cell_type": "code",
   "execution_count": 12,
   "metadata": {},
   "outputs": [],
   "source": [
    "spark.stop()"
   ]
  },
  {
   "cell_type": "code",
   "execution_count": 13,
   "metadata": {},
   "outputs": [],
   "source": [
    "# import os\n",
    "os.environ[\"PYSPARK_PYTHON\"] = r\"C:\\Users\\kompe\\AppData\\Local\\Programs\\Python\\Python310\\python.exe\"\n",
    "# os.environ[\"PYSPARK_DRIVER_PYTHON\"] = r\"C:\\Users\\kompe\\AppData\\Local\\Programs\\Python\\Python310\\python.exe\"\n",
    "\n",
    "# os.environ[\"PYSPARK_PYTHON\"] = r\"C:\\Users\\saivi\\AppData\\Local\\Programs\\Python\\Python310\\python.exe\"\n",
    "# os.environ[\"PYSPARK_DRIVER_PYTHON\"] = r\"C:\\Users\\saivi\\AppData\\Local\\Programs\\Python\\Python310\\python.exe\"\n",
    "\n"
   ]
  },
  {
   "cell_type": "code",
   "execution_count": 14,
   "metadata": {},
   "outputs": [
    {
     "name": "stdout",
     "output_type": "stream",
     "text": [
      "C:\\Users\\kompe\\AppData\\Local\\Programs\\Python\\Python310\\python.exe\n",
      "[0, 1, 4, 9, 16, 25, 36, 49, 64, 81]\n"
     ]
    }
   ],
   "source": [
    "from pyspark.sql import SparkSession\n",
    "\n",
    "spark = SparkSession.builder.appName(\"PythonCheck\").getOrCreate()\n",
    "print(spark.sparkContext.pythonExec)\n",
    "rdd = spark.sparkContext.parallelize(range(10), 4)\n",
    "print(rdd.map(lambda x: x ** 2).collect())"
   ]
  },
  {
   "cell_type": "code",
   "execution_count": 15,
   "metadata": {},
   "outputs": [],
   "source": [
    "import os\n",
    "import pandas as pd\n",
    "import numpy as np\n",
    "import matplotlib.pyplot as plt\n",
    "\n",
    "from pyspark import SparkConf, SparkContext\n",
    "from pyspark.sql import SparkSession, SQLContext\n",
    "\n",
    "from pyspark.sql.types import *\n",
    "from pyspark.sql.functions import udf, col\n",
    "import pyspark.sql.functions as F\n",
    "\n",
    "from pyspark.ml.feature import VectorAssembler\n",
    "\n",
    "from pyspark.ml.clustering import KMeans, BisectingKMeans, GaussianMixture\n",
    "\n",
    "# Visualization\n",
    "from IPython.core.interactiveshell import InteractiveShell\n",
    "InteractiveShell.ast_node_interactivity = \"all\"\n",
    "\n",
    "pd.set_option('display.max_columns', 200)\n",
    "pd.set_option('display.max_colwidth', 400)\n",
    "\n",
    "import matplotlib.pyplot as plt\n",
    "plt.rc('figure', figsize=(18, 4))\n",
    "\n",
    "import seaborn as sns\n",
    "sns.set(context='notebook', style='whitegrid', rc={'figure.figsize': (18,4)})\n",
    "\n",
    "import folium\n",
    "\n",
    "np.set_printoptions(precision=4, suppress=True)\n",
    "%matplotlib inline\n",
    "%config InlineBackend.figure_format = 'retina'\n",
    "import warnings\n",
    "warnings.filterwarnings('ignore')\n",
    "\n",
    "# setting random seed for notebook reproducability\n",
    "rnd_seed=42\n",
    "np.random.seed=rnd_seed\n",
    "np.random.set_state=rnd_seed\n"
   ]
  },
  {
   "cell_type": "code",
   "execution_count": 16,
   "metadata": {},
   "outputs": [],
   "source": [
    "spark = (SparkSession\n",
    "         .builder\n",
    "         .master(\"spark://10.0.0.225:7077\")\n",
    "         .appName(\"cluster-uber-trip-data\")\n",
    "         #.config(\"spark.pyspark.python\", \"C:/Users/saivi/AppData/Local/Programs/Python/Python310/python.exe\")\n",
    "         .getOrCreate())"
   ]
  },
  {
   "cell_type": "code",
   "execution_count": 17,
   "metadata": {},
   "outputs": [],
   "source": [
    "import pandas as pd\n",
    "\n",
    "# Use ISO-8859-1 encoding\n",
    "df = pd.read_csv(\"C:/Users/saivi/spark-3.5.3-bin-hadoop3/merged.csv\")"
   ]
  },
  {
   "cell_type": "code",
   "execution_count": 18,
   "metadata": {},
   "outputs": [
    {
     "name": "stdout",
     "output_type": "stream",
     "text": [
      "+----------------+-------+--------+------+\n",
      "|              dt|    lat|     lon|  Base|\n",
      "+----------------+-------+--------+------+\n",
      "|7/1/2014 0:03:00|40.7586|-73.9706|B02512|\n",
      "|7/1/2014 0:05:00|40.7605|-73.9994|B02512|\n",
      "|7/1/2014 0:06:00| 40.732|-73.9999|B02512|\n",
      "|7/1/2014 0:09:00|40.7635|-73.9793|B02512|\n",
      "|7/1/2014 0:20:00|40.7204|-74.0047|B02512|\n",
      "|7/1/2014 0:35:00|40.7487|-73.9869|B02512|\n",
      "|7/1/2014 0:57:00|40.7444|-73.9961|B02512|\n",
      "|7/1/2014 0:58:00|40.7132|-73.9492|B02512|\n",
      "|7/1/2014 1:04:00| 40.759| -73.973|B02512|\n",
      "|7/1/2014 1:08:00|40.7601|-73.9823|B02512|\n",
      "+----------------+-------+--------+------+\n",
      "only showing top 10 rows\n",
      "\n"
     ]
    }
   ],
   "source": [
    "uber_df = spark.createDataFrame(df)\n",
    "uber_df.show(10)"
   ]
  },
  {
   "cell_type": "code",
   "execution_count": 8,
   "metadata": {},
   "outputs": [
    {
     "name": "stdout",
     "output_type": "stream",
     "text": [
      "+-------+----------------+--------------------+-------------------+\n",
      "|summary|              dt|                 lat|                lon|\n",
      "+-------+----------------+--------------------+-------------------+\n",
      "|  count|         1048575|             1048575|            1048575|\n",
      "|   mean|            NULL|  40.739535827098635| -73.97283149502887|\n",
      "| stddev|            NULL|0.040024489669462225|0.05822526662881502|\n",
      "|    min|6/1/2014 0:00:00|             39.7214|            -74.826|\n",
      "|    max|7/9/2014 9:59:00|             41.3413|           -72.3097|\n",
      "+-------+----------------+--------------------+-------------------+\n",
      "\n"
     ]
    }
   ],
   "source": [
    "from pyspark.sql.types import StructType, StructField, TimestampType, DoubleType, StringType\n",
    "\n",
    "schema = StructType([\n",
    "    StructField(\"dt\", TimestampType(), nullable=False),   # Timestamp\n",
    "    StructField(\"lat\", DoubleType(), nullable=False),     # Latitude\n",
    "    StructField(\"lon\", DoubleType(), nullable=False),     # Longitude\n",
    "    StructField(\"base\", StringType(), nullable=True)      # Base identifier\n",
    "])\n",
    "uber_df.describe([\"dt\", \"lat\", \"lon\"]).show()"
   ]
  },
  {
   "cell_type": "code",
   "execution_count": 13,
   "metadata": {},
   "outputs": [
    {
     "name": "stdout",
     "output_type": "stream",
     "text": [
      "+------------------+\n",
      "|features          |\n",
      "+------------------+\n",
      "|[40.7586,-73.9706]|\n",
      "|[40.7605,-73.9994]|\n",
      "|[40.732,-73.9999] |\n",
      "|[40.7635,-73.9793]|\n",
      "|[40.7204,-74.0047]|\n",
      "+------------------+\n",
      "only showing top 5 rows\n",
      "\n",
      "+-------+--------+-------+\n",
      "|lat    |lon     |cluster|\n",
      "+-------+--------+-------+\n",
      "|40.7586|-73.9706|0      |\n",
      "|40.7605|-73.9994|0      |\n",
      "|40.732 |-73.9999|2      |\n",
      "|40.7635|-73.9793|0      |\n",
      "|40.7204|-74.0047|2      |\n",
      "|40.7487|-73.9869|0      |\n",
      "|40.7444|-73.9961|2      |\n",
      "|40.7132|-73.9492|6      |\n",
      "|40.759 |-73.973 |0      |\n",
      "|40.7601|-73.9823|0      |\n",
      "+-------+--------+-------+\n",
      "only showing top 10 rows\n",
      "\n"
     ]
    }
   ],
   "source": [
    "from pyspark.sql.functions import to_timestamp\n",
    "uber_df = uber_df.withColumn(\"dt\", to_timestamp(\"dt\", \"M/d/yyyy H:mm:ss\"))\n",
    "\n",
    "from pyspark.ml.feature import VectorAssembler\n",
    "\n",
    "# Select the features for clustering\n",
    "assembler = VectorAssembler(inputCols=[\"lat\", \"lon\"], outputCol=\"features\")\n",
    "uber_df_features = assembler.transform(uber_df)\n",
    "\n",
    "# Show the transformed data\n",
    "uber_df_features.select(\"features\").show(5, truncate=False)\n",
    "from pyspark.ml.clustering import KMeans\n",
    "\n",
    "# Define KMeans model\n",
    "kmeans = KMeans(k=8, seed=3, featuresCol=\"features\", predictionCol=\"cluster\")\n",
    "\n",
    "# Fit the model\n",
    "kmeans_model = kmeans.fit(uber_df_features)\n",
    "\n",
    "# Get cluster assignments\n",
    "clustered_df = kmeans_model.transform(uber_df_features)\n",
    "\n",
    "# Show a few rows with cluster assignments\n",
    "clustered_df.select(\"lat\", \"lon\", \"cluster\").show(10, truncate=False)\n"
   ]
  },
  {
   "cell_type": "code",
   "execution_count": 10,
   "metadata": {},
   "outputs": [
    {
     "ename": "NameError",
     "evalue": "name 'clustered_df' is not defined",
     "output_type": "error",
     "traceback": [
      "\u001b[1;31m---------------------------------------------------------------------------\u001b[0m",
      "\u001b[1;31mNameError\u001b[0m                                 Traceback (most recent call last)",
      "Cell \u001b[1;32mIn[10], line 4\u001b[0m\n\u001b[0;32m      1\u001b[0m \u001b[38;5;28;01mimport\u001b[39;00m \u001b[38;5;21;01mmatplotlib\u001b[39;00m\u001b[38;5;21;01m.\u001b[39;00m\u001b[38;5;21;01mpyplot\u001b[39;00m \u001b[38;5;28;01mas\u001b[39;00m \u001b[38;5;21;01mplt\u001b[39;00m\n\u001b[0;32m      3\u001b[0m \u001b[38;5;66;03m# Convert Spark DataFrame to Pandas\u001b[39;00m\n\u001b[1;32m----> 4\u001b[0m clustered_pandas_df \u001b[38;5;241m=\u001b[39m \u001b[43mclustered_df\u001b[49m\u001b[38;5;241m.\u001b[39mselect(\u001b[38;5;124m\"\u001b[39m\u001b[38;5;124mlat\u001b[39m\u001b[38;5;124m\"\u001b[39m, \u001b[38;5;124m\"\u001b[39m\u001b[38;5;124mlon\u001b[39m\u001b[38;5;124m\"\u001b[39m, \u001b[38;5;124m\"\u001b[39m\u001b[38;5;124mcluster\u001b[39m\u001b[38;5;124m\"\u001b[39m)\u001b[38;5;241m.\u001b[39mtoPandas()\n\u001b[0;32m      6\u001b[0m \u001b[38;5;66;03m# Plot the clusters\u001b[39;00m\n\u001b[0;32m      7\u001b[0m plt\u001b[38;5;241m.\u001b[39mfigure(figsize\u001b[38;5;241m=\u001b[39m(\u001b[38;5;241m10\u001b[39m, \u001b[38;5;241m6\u001b[39m))\n",
      "\u001b[1;31mNameError\u001b[0m: name 'clustered_df' is not defined"
     ]
    }
   ],
   "source": [
    "import matplotlib.pyplot as plt\n",
    "\n",
    "# Convert Spark DataFrame to Pandas\n",
    "clustered_pandas_df = clustered_df.select(\"lat\", \"lon\", \"cluster\").toPandas()\n",
    "\n",
    "# Plot the clusters\n",
    "plt.figure(figsize=(10, 6))\n",
    "for cluster_id in clustered_pandas_df[\"cluster\"].unique():\n",
    "    cluster_data = clustered_pandas_df[clustered_pandas_df[\"cluster\"] == cluster_id]\n",
    "    plt.scatter(cluster_data[\"lon\"], cluster_data[\"lat\"], label=f\"Cluster {cluster_id}\", alpha=0.6)\n",
    "\n",
    "plt.xlabel(\"Longitude\")\n",
    "plt.ylabel(\"Latitude\")\n",
    "plt.title(\"KMeans Clustering of Uber Rides\")\n",
    "plt.legend()\n",
    "plt.show()\n"
   ]
  },
  {
   "cell_type": "code",
   "execution_count": 15,
   "metadata": {},
   "outputs": [
    {
     "name": "stdout",
     "output_type": "stream",
     "text": [
      "    Latitude  Longitude\n",
      "0  40.763108 -73.975209\n",
      "1  40.792221 -73.162950\n",
      "2  40.728072 -74.005045\n",
      "3  40.754612 -73.604164\n",
      "4  40.655572 -73.785567\n",
      "5  40.985736 -73.791786\n",
      "6  40.687343 -73.965215\n",
      "7  40.784808 -73.887895\n"
     ]
    },
    {
     "data": {
      "text/plain": [
       "<Figure size 800x600 with 0 Axes>"
      ]
     },
     "execution_count": 15,
     "metadata": {},
     "output_type": "execute_result"
    },
    {
     "data": {
      "text/plain": [
       "<matplotlib.collections.PathCollection at 0x2ade915b3a0>"
      ]
     },
     "execution_count": 15,
     "metadata": {},
     "output_type": "execute_result"
    },
    {
     "data": {
      "text/plain": [
       "Text(0.5, 1.0, 'Cluster Centroids')"
      ]
     },
     "execution_count": 15,
     "metadata": {},
     "output_type": "execute_result"
    },
    {
     "data": {
      "text/plain": [
       "Text(0.5, 0, 'Latitude')"
      ]
     },
     "execution_count": 15,
     "metadata": {},
     "output_type": "execute_result"
    },
    {
     "data": {
      "text/plain": [
       "Text(0, 0.5, 'Longitude')"
      ]
     },
     "execution_count": 15,
     "metadata": {},
     "output_type": "execute_result"
    },
    {
     "data": {
      "text/plain": [
       "<matplotlib.legend.Legend at 0x2ade912da50>"
      ]
     },
     "execution_count": 15,
     "metadata": {},
     "output_type": "execute_result"
    },
    {
     "data": {
      "image/png": "[encoded data removed]",
      "text/plain": [
       "<Figure size 800x600 with 1 Axes>"
      ]
     },
     "metadata": {
      "image/png": {
       "height": 551,
       "width": 728
      }
     },
     "output_type": "display_data"
    },
    {
     "data": {
      "text/plain": [
       "<folium.map.Marker at 0x2ade912ca90>"
      ]
     },
     "execution_count": 15,
     "metadata": {},
     "output_type": "execute_result"
    },
    {
     "data": {
      "text/plain": [
       "<folium.map.Marker at 0x2ade918b100>"
      ]
     },
     "execution_count": 15,
     "metadata": {},
     "output_type": "execute_result"
    },
    {
     "data": {
      "text/plain": [
       "<folium.map.Marker at 0x2ade918ae30>"
      ]
     },
     "execution_count": 15,
     "metadata": {},
     "output_type": "execute_result"
    },
    {
     "data": {
      "text/plain": [
       "<folium.map.Marker at 0x2ade9188370>"
      ]
     },
     "execution_count": 15,
     "metadata": {},
     "output_type": "execute_result"
    },
    {
     "data": {
      "text/plain": [
       "<folium.map.Marker at 0x2ade9174610>"
      ]
     },
     "execution_count": 15,
     "metadata": {},
     "output_type": "execute_result"
    },
    {
     "data": {
      "text/plain": [
       "<folium.map.Marker at 0x2ade9174280>"
      ]
     },
     "execution_count": 15,
     "metadata": {},
     "output_type": "execute_result"
    },
    {
     "data": {
      "text/plain": [
       "<folium.map.Marker at 0x2ade9174100>"
      ]
     },
     "execution_count": 15,
     "metadata": {},
     "output_type": "execute_result"
    },
    {
     "data": {
      "text/plain": [
       "<folium.map.Marker at 0x2ade9174580>"
      ]
     },
     "execution_count": 15,
     "metadata": {},
     "output_type": "execute_result"
    },
    {
     "data": {
      "text/html": [
       "<div style=\"width:100%;\"><div style=\"position:relative;width:100%;height:0;padding-bottom:60%;\"><span style=\"color:#565656\">Make this Notebook Trusted to load map: File -> Trust Notebook</span><iframe srcdoc=\"&lt;!DOCTYPE html&gt;\n",
       "&lt;html&gt;\n",
       "&lt;head&gt;\n",
       "    \n",
       "    &lt;meta http-equiv=&quot;content-type&quot; content=&quot;text/html; charset=UTF-8&quot; /&gt;\n",
       "    \n",
       "        &lt;script&gt;\n",
       "            L_NO_TOUCH = false;\n",
       "            L_DISABLE_3D = false;\n",
       "        &lt;/script&gt;\n",
       "    \n",
       "    &lt;style&gt;html, body {width: 100%;height: 100%;margin: 0;padding: 0;}&lt;/style&gt;\n",
       "    &lt;style&gt;#map {position:absolute;top:0;bottom:0;right:0;left:0;}&lt;/style&gt;\n",
       "    &lt;script src=&quot;https://cdn.jsdelivr.net/npm/leaflet@1.9.3/dist/leaflet.js&quot;&gt;&lt;/script&gt;\n",
       "    &lt;script src=&quot;https://code.jquery.com/jquery-3.7.1.min.js&quot;&gt;&lt;/script&gt;\n",
       "    &lt;script src=&quot;https://cdn.jsdelivr.net/npm/bootstrap@5.2.2/dist/js/bootstrap.bundle.min.js&quot;&gt;&lt;/script&gt;\n",
       "    &lt;script src=&quot;https://cdnjs.cloudflare.com/ajax/libs/Leaflet.awesome-markers/2.0.2/leaflet.awesome-markers.js&quot;&gt;&lt;/script&gt;\n",
       "    &lt;link rel=&quot;stylesheet&quot; href=&quot;https://cdn.jsdelivr.net/npm/leaflet@1.9.3/dist/leaflet.css&quot;/&gt;\n",
       "    &lt;link rel=&quot;stylesheet&quot; href=&quot;https://cdn.jsdelivr.net/npm/bootstrap@5.2.2/dist/css/bootstrap.min.css&quot;/&gt;\n",
       "    &lt;link rel=&quot;stylesheet&quot; href=&quot;https://netdna.bootstrapcdn.com/bootstrap/3.0.0/css/bootstrap-glyphicons.css&quot;/&gt;\n",
       "    &lt;link rel=&quot;stylesheet&quot; href=&quot;https://cdn.jsdelivr.net/npm/@fortawesome/fontawesome-free@6.2.0/css/all.min.css&quot;/&gt;\n",
       "    &lt;link rel=&quot;stylesheet&quot; href=&quot;https://cdnjs.cloudflare.com/ajax/libs/Leaflet.awesome-markers/2.0.2/leaflet.awesome-markers.css&quot;/&gt;\n",
       "    &lt;link rel=&quot;stylesheet&quot; href=&quot;https://cdn.jsdelivr.net/gh/python-visualization/folium/folium/templates/leaflet.awesome.rotate.min.css&quot;/&gt;\n",
       "    \n",
       "            &lt;meta name=&quot;viewport&quot; content=&quot;width=device-width,\n",
       "                initial-scale=1.0, maximum-scale=1.0, user-scalable=no&quot; /&gt;\n",
       "            &lt;style&gt;\n",
       "                #map_57bd2e44ba003367c80be33f8157a2f0 {\n",
       "                    position: relative;\n",
       "                    width: 100.0%;\n",
       "                    height: 100.0%;\n",
       "                    left: 0.0%;\n",
       "                    top: 0.0%;\n",
       "                }\n",
       "                .leaflet-container { font-size: 1rem; }\n",
       "            &lt;/style&gt;\n",
       "        \n",
       "&lt;/head&gt;\n",
       "&lt;body&gt;\n",
       "    \n",
       "    \n",
       "            &lt;div class=&quot;folium-map&quot; id=&quot;map_57bd2e44ba003367c80be33f8157a2f0&quot; &gt;&lt;/div&gt;\n",
       "        \n",
       "&lt;/body&gt;\n",
       "&lt;script&gt;\n",
       "    \n",
       "    \n",
       "            var map_57bd2e44ba003367c80be33f8157a2f0 = L.map(\n",
       "                &quot;map_57bd2e44ba003367c80be33f8157a2f0&quot;,\n",
       "                {\n",
       "                    center: [40.768933981437876, -73.77222878769891],\n",
       "                    crs: L.CRS.EPSG3857,\n",
       "                    zoom: 10,\n",
       "                    zoomControl: true,\n",
       "                    preferCanvas: false,\n",
       "                }\n",
       "            );\n",
       "\n",
       "            \n",
       "\n",
       "        \n",
       "    \n",
       "            var tile_layer_42b4db048e40f361d8ce41d213acf182 = L.tileLayer(\n",
       "                &quot;https://tile.openstreetmap.org/{z}/{x}/{y}.png&quot;,\n",
       "                {&quot;attribution&quot;: &quot;\\u0026copy; \\u003ca href=\\&quot;https://www.openstreetmap.org/copyright\\&quot;\\u003eOpenStreetMap\\u003c/a\\u003e contributors&quot;, &quot;detectRetina&quot;: false, &quot;maxNativeZoom&quot;: 19, &quot;maxZoom&quot;: 19, &quot;minZoom&quot;: 0, &quot;noWrap&quot;: false, &quot;opacity&quot;: 1, &quot;subdomains&quot;: &quot;abc&quot;, &quot;tms&quot;: false}\n",
       "            );\n",
       "        \n",
       "    \n",
       "            tile_layer_42b4db048e40f361d8ce41d213acf182.addTo(map_57bd2e44ba003367c80be33f8157a2f0);\n",
       "        \n",
       "    \n",
       "            var marker_bda6bd2134d459679f50a7557477a941 = L.marker(\n",
       "                [40.76310798684539, -73.9752086181583],\n",
       "                {}\n",
       "            ).addTo(map_57bd2e44ba003367c80be33f8157a2f0);\n",
       "        \n",
       "    \n",
       "        var popup_cdc73df13895fc75615989b7d996e8cb = L.popup({&quot;maxWidth&quot;: &quot;100%&quot;});\n",
       "\n",
       "        \n",
       "            \n",
       "                var html_be4467bbe35dc8ef0dc7b101173eb417 = $(`&lt;div id=&quot;html_be4467bbe35dc8ef0dc7b101173eb417&quot; style=&quot;width: 100.0%; height: 100.0%;&quot;&gt;Lat: 40.76310798684539, Lon: -73.9752086181583&lt;/div&gt;`)[0];\n",
       "                popup_cdc73df13895fc75615989b7d996e8cb.setContent(html_be4467bbe35dc8ef0dc7b101173eb417);\n",
       "            \n",
       "        \n",
       "\n",
       "        marker_bda6bd2134d459679f50a7557477a941.bindPopup(popup_cdc73df13895fc75615989b7d996e8cb)\n",
       "        ;\n",
       "\n",
       "        \n",
       "    \n",
       "    \n",
       "            var marker_9626bfa7162ab0adcc22d626296148c1 = L.marker(\n",
       "                [40.792220763723144, -73.16295011933174],\n",
       "                {}\n",
       "            ).addTo(map_57bd2e44ba003367c80be33f8157a2f0);\n",
       "        \n",
       "    \n",
       "        var popup_cedcb458e86af7b917d117a65672c700 = L.popup({&quot;maxWidth&quot;: &quot;100%&quot;});\n",
       "\n",
       "        \n",
       "            \n",
       "                var html_101863b55bdfd2313615b1232bbcb372 = $(`&lt;div id=&quot;html_101863b55bdfd2313615b1232bbcb372&quot; style=&quot;width: 100.0%; height: 100.0%;&quot;&gt;Lat: 40.792220763723144, Lon: -73.16295011933174&lt;/div&gt;`)[0];\n",
       "                popup_cedcb458e86af7b917d117a65672c700.setContent(html_101863b55bdfd2313615b1232bbcb372);\n",
       "            \n",
       "        \n",
       "\n",
       "        marker_9626bfa7162ab0adcc22d626296148c1.bindPopup(popup_cedcb458e86af7b917d117a65672c700)\n",
       "        ;\n",
       "\n",
       "        \n",
       "    \n",
       "    \n",
       "            var marker_e6f5d24f91d70069cdce22bcfd0d0f05 = L.marker(\n",
       "                [40.7280719521146, -74.00504454363096],\n",
       "                {}\n",
       "            ).addTo(map_57bd2e44ba003367c80be33f8157a2f0);\n",
       "        \n",
       "    \n",
       "        var popup_319f1d76067403ede81e0085f5db6cbd = L.popup({&quot;maxWidth&quot;: &quot;100%&quot;});\n",
       "\n",
       "        \n",
       "            \n",
       "                var html_d5d5acff56719a25ed4132968b21a11c = $(`&lt;div id=&quot;html_d5d5acff56719a25ed4132968b21a11c&quot; style=&quot;width: 100.0%; height: 100.0%;&quot;&gt;Lat: 40.7280719521146, Lon: -74.00504454363096&lt;/div&gt;`)[0];\n",
       "                popup_319f1d76067403ede81e0085f5db6cbd.setContent(html_d5d5acff56719a25ed4132968b21a11c);\n",
       "            \n",
       "        \n",
       "\n",
       "        marker_e6f5d24f91d70069cdce22bcfd0d0f05.bindPopup(popup_319f1d76067403ede81e0085f5db6cbd)\n",
       "        ;\n",
       "\n",
       "        \n",
       "    \n",
       "    \n",
       "            var marker_8dab7a8809ae481095e38055f778e953 = L.marker(\n",
       "                [40.75461229066985, -73.60416438397128],\n",
       "                {}\n",
       "            ).addTo(map_57bd2e44ba003367c80be33f8157a2f0);\n",
       "        \n",
       "    \n",
       "        var popup_59114e618c2f1e1f9e3d64d008e9dc10 = L.popup({&quot;maxWidth&quot;: &quot;100%&quot;});\n",
       "\n",
       "        \n",
       "            \n",
       "                var html_6b83c1190658baac2f5697e5103bce10 = $(`&lt;div id=&quot;html_6b83c1190658baac2f5697e5103bce10&quot; style=&quot;width: 100.0%; height: 100.0%;&quot;&gt;Lat: 40.75461229066985, Lon: -73.60416438397128&lt;/div&gt;`)[0];\n",
       "                popup_59114e618c2f1e1f9e3d64d008e9dc10.setContent(html_6b83c1190658baac2f5697e5103bce10);\n",
       "            \n",
       "        \n",
       "\n",
       "        marker_8dab7a8809ae481095e38055f778e953.bindPopup(popup_59114e618c2f1e1f9e3d64d008e9dc10)\n",
       "        ;\n",
       "\n",
       "        \n",
       "    \n",
       "    \n",
       "            var marker_bc02b41405db1bdca2f86e2db2aa2a72 = L.marker(\n",
       "                [40.65557222222197, -73.78556702467709],\n",
       "                {}\n",
       "            ).addTo(map_57bd2e44ba003367c80be33f8157a2f0);\n",
       "        \n",
       "    \n",
       "        var popup_600ff9472975d49b19608ffefea0bfda = L.popup({&quot;maxWidth&quot;: &quot;100%&quot;});\n",
       "\n",
       "        \n",
       "            \n",
       "                var html_58a2a8618700172d98213655f6d1c0b4 = $(`&lt;div id=&quot;html_58a2a8618700172d98213655f6d1c0b4&quot; style=&quot;width: 100.0%; height: 100.0%;&quot;&gt;Lat: 40.65557222222197, Lon: -73.78556702467709&lt;/div&gt;`)[0];\n",
       "                popup_600ff9472975d49b19608ffefea0bfda.setContent(html_58a2a8618700172d98213655f6d1c0b4);\n",
       "            \n",
       "        \n",
       "\n",
       "        marker_bc02b41405db1bdca2f86e2db2aa2a72.bindPopup(popup_600ff9472975d49b19608ffefea0bfda)\n",
       "        ;\n",
       "\n",
       "        \n",
       "    \n",
       "    \n",
       "            var marker_be8ba2842aa9a33099c00239efce1877 = L.marker(\n",
       "                [40.98573560482557, -73.79178584936419],\n",
       "                {}\n",
       "            ).addTo(map_57bd2e44ba003367c80be33f8157a2f0);\n",
       "        \n",
       "    \n",
       "        var popup_baf3672cedad073138936110ceaf42ca = L.popup({&quot;maxWidth&quot;: &quot;100%&quot;});\n",
       "\n",
       "        \n",
       "            \n",
       "                var html_b96c1e197de1566dfd10d227f0c54d48 = $(`&lt;div id=&quot;html_b96c1e197de1566dfd10d227f0c54d48&quot; style=&quot;width: 100.0%; height: 100.0%;&quot;&gt;Lat: 40.98573560482557, Lon: -73.79178584936419&lt;/div&gt;`)[0];\n",
       "                popup_baf3672cedad073138936110ceaf42ca.setContent(html_b96c1e197de1566dfd10d227f0c54d48);\n",
       "            \n",
       "        \n",
       "\n",
       "        marker_be8ba2842aa9a33099c00239efce1877.bindPopup(popup_baf3672cedad073138936110ceaf42ca)\n",
       "        ;\n",
       "\n",
       "        \n",
       "    \n",
       "    \n",
       "            var marker_6035086c54c83aabc16f6a8402657756 = L.marker(\n",
       "                [40.68734343029796, -73.96521514426664],\n",
       "                {}\n",
       "            ).addTo(map_57bd2e44ba003367c80be33f8157a2f0);\n",
       "        \n",
       "    \n",
       "        var popup_45afb0e15d16edbcec87818c6eadcf32 = L.popup({&quot;maxWidth&quot;: &quot;100%&quot;});\n",
       "\n",
       "        \n",
       "            \n",
       "                var html_a19011f7c933e17a009904c3bb3722f5 = $(`&lt;div id=&quot;html_a19011f7c933e17a009904c3bb3722f5&quot; style=&quot;width: 100.0%; height: 100.0%;&quot;&gt;Lat: 40.68734343029796, Lon: -73.96521514426664&lt;/div&gt;`)[0];\n",
       "                popup_45afb0e15d16edbcec87818c6eadcf32.setContent(html_a19011f7c933e17a009904c3bb3722f5);\n",
       "            \n",
       "        \n",
       "\n",
       "        marker_6035086c54c83aabc16f6a8402657756.bindPopup(popup_45afb0e15d16edbcec87818c6eadcf32)\n",
       "        ;\n",
       "\n",
       "        \n",
       "    \n",
       "    \n",
       "            var marker_ffa460d536ee20b23f5c8aaad5ee9459 = L.marker(\n",
       "                [40.78480760080451, -73.8878946181911],\n",
       "                {}\n",
       "            ).addTo(map_57bd2e44ba003367c80be33f8157a2f0);\n",
       "        \n",
       "    \n",
       "        var popup_21f9770eb8a3406bfeb8831ffc23203e = L.popup({&quot;maxWidth&quot;: &quot;100%&quot;});\n",
       "\n",
       "        \n",
       "            \n",
       "                var html_f94a2ef715e0175af739fbc878980156 = $(`&lt;div id=&quot;html_f94a2ef715e0175af739fbc878980156&quot; style=&quot;width: 100.0%; height: 100.0%;&quot;&gt;Lat: 40.78480760080451, Lon: -73.8878946181911&lt;/div&gt;`)[0];\n",
       "                popup_21f9770eb8a3406bfeb8831ffc23203e.setContent(html_f94a2ef715e0175af739fbc878980156);\n",
       "            \n",
       "        \n",
       "\n",
       "        marker_ffa460d536ee20b23f5c8aaad5ee9459.bindPopup(popup_21f9770eb8a3406bfeb8831ffc23203e)\n",
       "        ;\n",
       "\n",
       "        \n",
       "    \n",
       "&lt;/script&gt;\n",
       "&lt;/html&gt;\" style=\"position:absolute;width:100%;height:100%;left:0;top:0;border:none !important;\" allowfullscreen webkitallowfullscreen mozallowfullscreen></iframe></div></div>"
      ],
      "text/plain": [
       "<folium.folium.Map at 0x2ade912df90>"
      ]
     },
     "execution_count": 15,
     "metadata": {},
     "output_type": "execute_result"
    }
   ],
   "source": [
    "from pyspark.ml.clustering import KMeans\n",
    "import pandas as pd\n",
    "import matplotlib.pyplot as plt\n",
    "import folium\n",
    "\n",
    "# Get centroids of clusters\n",
    "centroids = kmeans_model.clusterCenters()  # Extracting cluster centers\n",
    "center_locations = pd.DataFrame(centroids, columns=[\"Latitude\", \"Longitude\"])\n",
    "\n",
    "# Display centroid dataframe\n",
    "print(center_locations)\n",
    "\n",
    "# Matplotlib Visualization of Centroids\n",
    "plt.figure(figsize=(8, 6))\n",
    "plt.scatter(center_locations[\"Latitude\"], center_locations[\"Longitude\"], marker='x', color='red', s=200, label=\"Centroids\")\n",
    "plt.title(\"Cluster Centroids\")\n",
    "plt.xlabel(\"Latitude\")\n",
    "plt.ylabel(\"Longitude\")\n",
    "plt.legend()\n",
    "plt.grid()\n",
    "plt.show()\n",
    "\n",
    "# Converting centroids to list\n",
    "centroid_list = center_locations.values.tolist()\n",
    "\n",
    "# Folium Map Visualization\n",
    "# Setting map center and zoom\n",
    "map_center = [center_locations[\"Latitude\"].mean(), center_locations[\"Longitude\"].mean()]\n",
    "map = folium.Map(location=map_center, zoom_start=10)\n",
    "\n",
    "# Adding centroids as markers\n",
    "for point in centroid_list:\n",
    "    folium.Marker(location=point, popup=f\"Lat: {point[0]}, Lon: {point[1]}\").add_to(map)\n",
    "\n",
    "# Display the map\n",
    "map\n"
   ]
  },
  {
   "cell_type": "code",
   "execution_count": null,
   "metadata": {},
   "outputs": [],
   "source": [
    "from pyspark.sql.functions import col, hour, desc\n",
    "import matplotlib.pyplot as plt\n",
    "import seaborn as sns\n",
    "\n",
    "# Extract hour from 'dt' column and group by 'hour' and 'cluster'\n",
    "result_df = (\n",
    "    clustered_df\n",
    "    .select(hour(\"dt\").alias(\"hour\"), \"cluster\")  # Extract hour\n",
    "    .groupBy(\"hour\", \"cluster\")                  # Group by hour and cluster\n",
    "    .count()                                    # Count the occurrences\n",
    "    .orderBy(desc(\"count\"))                     # Order by count descending\n",
    ")\n",
    "\n",
    "# Cache the DataFrame for efficiency\n",
    "result_df.cache()\n",
    "\n",
    "# Show the top 10 rows of the result\n",
    "result_df.show(10)\n",
    "\n",
    "# Convert to Pandas for visualization\n",
    "result_pd = result_df.toPandas()\n",
    "\n",
    "# Plot using Seaborn\n",
    "plt.figure(figsize=(18, 6))\n",
    "sns.barplot(x=\"hour\", y=\"count\", hue=\"cluster\", data=result_pd)\n",
    "plt.title(\"Counts of Clusters by Hour\")\n",
    "plt.xlabel(\"Hour of the Day\")\n",
    "plt.ylabel(\"Count\")\n",
    "plt.legend(title=\"Cluster\")\n",
    "plt.grid()\n",
    "plt.show()\n",
    "\n",
    "\n",
    "(clustered_df\n",
    "    .select(F.hour(\"dt\").alias(\"hour\"), \"cluster\")\n",
    "    .groupBy([\"hour\", \"cluster\"])\n",
    "    .count()\n",
    "    .orderBy(F.desc(\"count\"))).show(10)"
   ]
  },
  {
   "cell_type": "code",
   "execution_count": null,
   "metadata": {},
   "outputs": [],
   "source": [
    "clustered_df.createOrReplaceTempView(\"test_preds\")\n",
    "\n",
    "sql_query = \"\"\"\n",
    "    SELECT \n",
    "        cluster, \n",
    "        COUNT(cluster) AS count\n",
    "    FROM test_preds\n",
    "    GROUP BY cluster\n",
    "    ORDER BY cluster\n",
    "\"\"\"\n",
    "\n",
    "# Execute the query\n",
    "sql_result_df = spark.sql(sql_query)\n",
    "\n",
    "# Cache the result for optimization\n",
    "sql_result_df.cache()\n",
    "\n",
    "# Show the result\n",
    "sql_result_df.show(10)\n",
    "\n",
    "# Convert to Pandas for visualization\n",
    "sql_result_pd = sql_result_df.toPandas()\n",
    "\n",
    "# Plot using Seaborn\n",
    "plt.figure(figsize=(18, 4))\n",
    "sns.barplot(x=\"cluster\", y=\"count\", data=sql_result_pd)\n",
    "plt.title(\"Total Pickups By Cluster\")\n",
    "plt.xlabel(\"Cluster\")\n",
    "plt.ylabel(\"Count\")\n",
    "plt.show()"
   ]
  },
  {
   "cell_type": "code",
   "execution_count": null,
   "metadata": {},
   "outputs": [],
   "source": [
    "# Use Spark SQL query to get hour-wise pickup counts\n",
    "clustered_df.createOrReplaceTempView(\"test_preds\")\n",
    "\n",
    "sql_query = \"\"\"\n",
    "    SELECT \n",
    "        HOUR(dt) AS hour, \n",
    "        COUNT(cluster) AS count\n",
    "    FROM test_preds\n",
    "    GROUP BY hour\n",
    "    ORDER BY hour\n",
    "\"\"\"\n",
    "\n",
    "# Execute the query\n",
    "sql_result_df = spark.sql(sql_query)\n",
    "\n",
    "# Cache the result for optimization\n",
    "sql_result_df.cache()\n",
    "\n",
    "# Show the result\n",
    "sql_result_df.show(10)\n",
    "\n",
    "# Convert to Pandas for visualization\n",
    "sql_result_pd = sql_result_df.toPandas()\n",
    "\n",
    "# Plot using Seaborn\n",
    "plt.figure(figsize=(18, 4))\n",
    "sns.barplot(x=\"hour\", y=\"count\", data=sql_result_pd)\n",
    "plt.title(\"Total Pickups By Hour\")\n",
    "plt.xlabel(\"Hour\")\n",
    "plt.ylabel(\"Count\")\n",
    "plt.show()"
   ]
  },
  {
   "cell_type": "code",
   "execution_count": null,
   "metadata": {},
   "outputs": [],
   "source": [
    "# Step 1: Convert `dt` column to timestamp format\n",
    "test_preds = clustered_df.withColumn(\"dt\", to_timestamp(col(\"dt\"), \"M/d/yyyy H:mm:ss\"))\n",
    "\n",
    "# Step 2: Extract the `hour` column\n",
    "test_preds = clustered_df.withColumn(\"hour\", hour(col(\"dt\")))\n",
    "\n",
    "# Step 3: Add `time_of_day` column\n",
    "def get_time_of_day(hour):\n",
    "    if 5 <= hour < 12:\n",
    "        return \"Morning\"\n",
    "    elif 12 <= hour < 17:\n",
    "        return \"Afternoon\"\n",
    "    elif 17 <= hour < 21:\n",
    "        return \"Evening\"\n",
    "    else:\n",
    "        return \"Night\"\n",
    "\n",
    "# Register UDF for time of day\n",
    "time_of_day_udf = udf(get_time_of_day, StringType())\n",
    "test_preds = test_preds.withColumn(\"time_of_day\", time_of_day_udf(col(\"hour\")))\n",
    "\n",
    "# Step 4: Register DataFrame as a temporary SQL view\n",
    "test_preds.createOrReplaceTempView(\"test_preds\")\n",
    "\n",
    "# Step 5: Analyze cluster stability across time periods\n",
    "cluster_stability_df = spark.sql(\n",
    "    \"\"\"\n",
    "    SELECT time_of_day, cluster, COUNT(*) AS count\n",
    "    FROM test_preds\n",
    "    GROUP BY time_of_day, cluster\n",
    "    ORDER BY time_of_day, count DESC\n",
    "    \"\"\"\n",
    ")\n",
    "\n",
    "# Step 6: Show the results\n",
    "cluster_stability_df.show()\n",
    "\n",
    "# Step 7: Convert the Spark DataFrame to Pandas for visualization\n",
    "cluster_stability_pd = cluster_stability_df.toPandas()\n",
    "\n",
    "# Step 8: Plot cluster distribution by time of day\n",
    "plt.figure(figsize=(12, 6))\n",
    "sns.barplot(x=\"time_of_day\", y=\"count\", hue=\"cluster\", data=cluster_stability_pd, palette=\"tab20\")\n",
    "plt.title(\"Cluster Distribution by Time of Day\")\n",
    "plt.xlabel(\"Time of Day\")\n",
    "plt.ylabel(\"Number of Pickups\")\n",
    "plt.legend(title=\"Cluster\")\n",
    "plt.show()"
   ]
  },
  {
   "cell_type": "code",
   "execution_count": null,
   "metadata": {},
   "outputs": [],
   "source": [
    "import folium\n",
    "from folium.plugins import HeatMap\n",
    "\n",
    "# Filter one cluster and get lat/lon\n",
    "cluster_0_df = clustered_df.filter(col(\"cluster\") == 0).select(\"lat\", \"lon\").toPandas()\n",
    "\n",
    "# Create a map\n",
    "m = folium.Map(location=[40.7586, -73.9706], zoom_start=12)\n",
    "\n",
    "# Add heatmap\n",
    "HeatMap(data=cluster_0_df[[\"lat\", \"lon\"]].values, radius=10).add_to(m)\n",
    "\n",
    "# Show map\n",
    "m\n"
   ]
  },
  {
   "cell_type": "code",
   "execution_count": null,
   "metadata": {},
   "outputs": [],
   "source": [
    "from pyspark.sql.functions import dayofweek\n",
    "\n",
    "# Add `day_of_week` column\n",
    "test_preds = test_preds.withColumn(\"day_of_week\", dayofweek(col(\"dt\")))\n",
    "\n",
    "# Group by day_of_week and cluster\n",
    "day_of_week_df = test_preds.groupBy(\"day_of_week\", \"cluster\").count().orderBy(\"day_of_week\", \"count\", ascending=False)\n",
    "\n",
    "# Convert to Pandas for plotting\n",
    "day_of_week_pd = day_of_week_df.toPandas()\n",
    "\n",
    "# Map day_of_week to labels\n",
    "day_of_week_pd[\"day_of_week\"] = day_of_week_pd[\"day_of_week\"].map({1: \"Sun\", 2: \"Mon\", 3: \"Tue\", 4: \"Wed\", 5: \"Thu\", 6: \"Fri\", 7: \"Sat\"})\n",
    "\n",
    "plt.figure(figsize=(12, 6))\n",
    "sns.barplot(data=day_of_week_pd, x=\"day_of_week\", y=\"count\", hue=\"cluster\", palette=\"tab20\")\n",
    "plt.title(\"Cluster Distribution by Day of Week\")\n",
    "plt.xlabel(\"Day of Week\")\n",
    "plt.ylabel(\"Number of Pickups\")\n",
    "plt.legend(title=\"Cluster\")\n",
    "plt.show()\n"
   ]
  },
  {
   "cell_type": "code",
   "execution_count": null,
   "metadata": {},
   "outputs": [],
   "source": []
  },
  {
   "cell_type": "code",
   "execution_count": null,
   "metadata": {},
   "outputs": [],
   "source": []
  },
  {
   "cell_type": "code",
   "execution_count": null,
   "metadata": {},
   "outputs": [],
   "source": []
  },
  {
   "cell_type": "code",
   "execution_count": null,
   "metadata": {},
   "outputs": [],
   "source": []
  },
  {
   "cell_type": "code",
   "execution_count": null,
   "metadata": {},
   "outputs": [],
   "source": []
  },
  {
   "cell_type": "code",
   "execution_count": null,
   "metadata": {},
   "outputs": [],
   "source": []
  },
  {
   "cell_type": "code",
   "execution_count": null,
   "metadata": {},
   "outputs": [],
   "source": []
  },
  {
   "cell_type": "code",
   "execution_count": null,
   "metadata": {},
   "outputs": [],
   "source": []
  },
  {
   "cell_type": "code",
   "execution_count": null,
   "metadata": {},
   "outputs": [],
   "source": []
  },
  {
   "cell_type": "code",
   "execution_count": null,
   "metadata": {},
   "outputs": [],
   "source": []
  },
  {
   "cell_type": "code",
   "execution_count": null,
   "metadata": {},
   "outputs": [],
   "source": []
  },
  {
   "cell_type": "code",
   "execution_count": null,
   "metadata": {},
   "outputs": [],
   "source": []
  },
  {
   "cell_type": "code",
   "execution_count": null,
   "metadata": {},
   "outputs": [],
   "source": []
  },
  {
   "cell_type": "code",
   "execution_count": null,
   "metadata": {},
   "outputs": [],
   "source": []
  },
  {
   "cell_type": "code",
   "execution_count": null,
   "metadata": {},
   "outputs": [],
   "source": []
  },
  {
   "cell_type": "code",
   "execution_count": null,
   "metadata": {},
   "outputs": [],
   "source": []
  },
  {
   "cell_type": "code",
   "execution_count": null,
   "metadata": {},
   "outputs": [],
   "source": []
  },
  {
   "cell_type": "code",
   "execution_count": null,
   "metadata": {},
   "outputs": [],
   "source": []
  },
  {
   "cell_type": "code",
   "execution_count": null,
   "metadata": {},
   "outputs": [],
   "source": []
  },
  {
   "cell_type": "code",
   "execution_count": null,
   "metadata": {},
   "outputs": [],
   "source": []
  },
  {
   "cell_type": "code",
   "execution_count": null,
   "metadata": {},
   "outputs": [],
   "source": []
  },
  {
   "cell_type": "code",
   "execution_count": null,
   "metadata": {},
   "outputs": [],
   "source": []
  },
  {
   "cell_type": "code",
   "execution_count": null,
   "metadata": {},
   "outputs": [],
   "source": []
  },
  {
   "cell_type": "code",
   "execution_count": null,
   "metadata": {},
   "outputs": [],
   "source": []
  },
  {
   "cell_type": "code",
   "execution_count": null,
   "metadata": {},
   "outputs": [],
   "source": []
  },
  {
   "cell_type": "code",
   "execution_count": null,
   "metadata": {},
   "outputs": [],
   "source": []
  },
  {
   "cell_type": "code",
   "execution_count": null,
   "metadata": {},
   "outputs": [],
   "source": []
  },
  {
   "cell_type": "code",
   "execution_count": null,
   "metadata": {},
   "outputs": [],
   "source": []
  },
  {
   "cell_type": "code",
   "execution_count": null,
   "metadata": {},
   "outputs": [],
   "source": []
  },
  {
   "cell_type": "code",
   "execution_count": null,
   "metadata": {},
   "outputs": [],
   "source": []
  },
  {
   "cell_type": "code",
   "execution_count": null,
   "metadata": {},
   "outputs": [],
   "source": []
  },
  {
   "cell_type": "code",
   "execution_count": null,
   "metadata": {},
   "outputs": [],
   "source": []
  },
  {
   "cell_type": "code",
   "execution_count": null,
   "metadata": {},
   "outputs": [],
   "source": []
  },
  {
   "cell_type": "code",
   "execution_count": null,
   "metadata": {},
   "outputs": [],
   "source": []
  },
  {
   "cell_type": "code",
   "execution_count": null,
   "metadata": {},
   "outputs": [],
   "source": []
  },
  {
   "cell_type": "code",
   "execution_count": null,
   "metadata": {},
   "outputs": [],
   "source": []
  },
  {
   "cell_type": "code",
   "execution_count": null,
   "metadata": {},
   "outputs": [],
   "source": []
  },
  {
   "cell_type": "code",
   "execution_count": null,
   "metadata": {},
   "outputs": [],
   "source": []
  },
  {
   "cell_type": "code",
   "execution_count": null,
   "metadata": {},
   "outputs": [],
   "source": []
  },
  {
   "cell_type": "code",
   "execution_count": null,
   "metadata": {},
   "outputs": [],
   "source": []
  },
  {
   "cell_type": "code",
   "execution_count": null,
   "metadata": {},
   "outputs": [],
   "source": []
  },
  {
   "cell_type": "code",
   "execution_count": null,
   "metadata": {},
   "outputs": [],
   "source": []
  },
  {
   "cell_type": "code",
   "execution_count": null,
   "metadata": {},
   "outputs": [],
   "source": []
  },
  {
   "cell_type": "code",
   "execution_count": null,
   "metadata": {},
   "outputs": [],
   "source": []
  },
  {
   "cell_type": "code",
   "execution_count": null,
   "metadata": {},
   "outputs": [],
   "source": []
  },
  {
   "cell_type": "code",
   "execution_count": null,
   "metadata": {},
   "outputs": [],
   "source": []
  },
  {
   "cell_type": "code",
   "execution_count": null,
   "metadata": {},
   "outputs": [],
   "source": []
  },
  {
   "cell_type": "code",
   "execution_count": null,
   "metadata": {},
   "outputs": [],
   "source": []
  },
  {
   "cell_type": "code",
   "execution_count": null,
   "metadata": {},
   "outputs": [],
   "source": []
  },
  {
   "cell_type": "code",
   "execution_count": null,
   "metadata": {},
   "outputs": [],
   "source": []
  },
  {
   "cell_type": "code",
   "execution_count": null,
   "metadata": {},
   "outputs": [],
   "source": []
  },
  {
   "cell_type": "code",
   "execution_count": null,
   "metadata": {},
   "outputs": [],
   "source": []
  },
  {
   "cell_type": "code",
   "execution_count": null,
   "metadata": {},
   "outputs": [],
   "source": []
  },
  {
   "cell_type": "code",
   "execution_count": null,
   "metadata": {},
   "outputs": [],
   "source": []
  },
  {
   "cell_type": "code",
   "execution_count": null,
   "metadata": {},
   "outputs": [],
   "source": []
  },
  {
   "cell_type": "code",
   "execution_count": null,
   "metadata": {},
   "outputs": [],
   "source": []
  },
  {
   "cell_type": "code",
   "execution_count": null,
   "metadata": {},
   "outputs": [],
   "source": []
  },
  {
   "cell_type": "code",
   "execution_count": 66,
   "metadata": {},
   "outputs": [],
   "source": [
    "import os\n",
    "os.environ[\"PYSPARK_PYTHON\"] = r\"C:\\Users\\kompe\\AppData\\Local\\Programs\\Python\\Python310\\python.exe\"\n",
    "os.environ[\"PYSPARK_DRIVER_PYTHON\"] = r\"C:\\Users\\kompe\\AppData\\Local\\Programs\\Python\\Python310\\python.exe\"\n"
   ]
  },
  {
   "cell_type": "code",
   "execution_count": 3,
   "metadata": {},
   "outputs": [],
   "source": [
    "spark.stop()"
   ]
  },
  {
   "cell_type": "code",
   "execution_count": 67,
   "metadata": {},
   "outputs": [
    {
     "name": "stdout",
     "output_type": "stream",
     "text": [
      "C:\\Users\\kompe\\AppData\\Local\\Programs\\Python\\Python310\\python.exe\n",
      "[0, 1, 4, 9, 16, 25, 36, 49, 64, 81]\n"
     ]
    }
   ],
   "source": [
    "from pyspark.sql import SparkSession\n",
    "\n",
    "spark = SparkSession.builder.appName(\"PythonCheck\").getOrCreate()\n",
    "print(spark.sparkContext.pythonExec)\n",
    "rdd = spark.sparkContext.parallelize(range(10), 4)\n",
    "print(rdd.map(lambda x: x ** 2).collect())\n",
    "\n"
   ]
  },
  {
   "cell_type": "code",
   "execution_count": 5,
   "metadata": {
    "scrolled": true
   },
   "outputs": [],
   "source": [
    "import os\n",
    "import pandas as pd\n",
    "import numpy as np\n",
    "import matplotlib.pyplot as plt\n",
    "\n",
    "from pyspark import SparkConf, SparkContext\n",
    "from pyspark.sql import SparkSession, SQLContext\n",
    "\n",
    "from pyspark.sql.types import *\n",
    "from pyspark.sql.functions import udf, col\n",
    "import pyspark.sql.functions as F\n",
    "\n",
    "from pyspark.ml.feature import VectorAssembler\n",
    "\n",
    "from pyspark.ml.clustering import KMeans, BisectingKMeans, GaussianMixture"
   ]
  },
  {
   "cell_type": "code",
   "execution_count": 6,
   "metadata": {},
   "outputs": [],
   "source": [
    "# Visualization\n",
    "from IPython.core.interactiveshell import InteractiveShell\n",
    "InteractiveShell.ast_node_interactivity = \"all\"\n",
    "\n",
    "pd.set_option('display.max_columns', 200)\n",
    "pd.set_option('display.max_colwidth', 400)\n",
    "\n",
    "import matplotlib.pyplot as plt\n",
    "plt.rc('figure', figsize=(18, 4))\n",
    "\n",
    "import seaborn as sns\n",
    "sns.set(context='notebook', style='whitegrid', rc={'figure.figsize': (18,4)})\n",
    "\n",
    "import folium\n",
    "\n",
    "np.set_printoptions(precision=4, suppress=True)\n",
    "\n",
    "%matplotlib inline\n",
    "%config InlineBackend.figure_format = 'retina'\n",
    "\n",
    "import warnings\n",
    "warnings.filterwarnings('ignore')"
   ]
  },
  {
   "cell_type": "code",
   "execution_count": 7,
   "metadata": {},
   "outputs": [],
   "source": [
    "# setting random seed for notebook reproducability\n",
    "rnd_seed=42\n",
    "np.random.seed=rnd_seed\n",
    "np.random.set_state=rnd_seed"
   ]
  },
  {
   "cell_type": "markdown",
   "metadata": {},
   "source": [
    "## Creating the Spark Session"
   ]
  },
  {
   "cell_type": "code",
   "execution_count": 8,
   "metadata": {},
   "outputs": [],
   "source": [
    "# The following must be set in your .bashrc file\n",
    "#SPARK_HOME=\"/home/ubuntu/spark-2.4.0-bin-hadoop2.7\"\n",
    "#ANACONDA_HOME=\"/home/ubuntu/anaconda3/envs/pyspark\"\n",
    "#PYSPARK_PYTHON=\"$ANACONDA_HOME/bin/python\"\n",
    "#PYSPARK_DRIVER_PYTHON=\"$ANACONDA_HOME/bin/python\"\n",
    "#PYTHONPATH=\"$ANACONDA_HOME/bin/python\"\n",
    "#export PATH=\"$ANACONDA_HOME/bin:$SPARK_HOME/bin:$PATH\""
   ]
  },
  {
   "cell_type": "code",
   "execution_count": 9,
   "metadata": {},
   "outputs": [],
   "source": [
    "spark = (SparkSession\n",
    "         .builder\n",
    "         .master(\"spark://10.0.0.225:7077\")\n",
    "         .appName(\"cluster-uber-trip-data\")\n",
    "         #.config(\"spark.pyspark.python\", \"C:/Users/saivi/AppData/Local/Programs/Python/Python310/python.exe\")\n",
    "         .getOrCreate())"
   ]
  },
  {
   "cell_type": "markdown",
   "metadata": {},
   "source": [
    "##  Load The Data From a File Into a Dataframe"
   ]
  },
  {
   "cell_type": "code",
   "execution_count": 10,
   "metadata": {},
   "outputs": [],
   "source": [
    "import pandas as pd\n",
    "\n",
    "# Use ISO-8859-1 encoding\n",
    "df = pd.read_csv(\"C:/Users/saivi/spark-3.5.3-bin-hadoop3/merged.csv\")"
   ]
  },
  {
   "cell_type": "code",
   "execution_count": 11,
   "metadata": {},
   "outputs": [
    {
     "name": "stdout",
     "output_type": "stream",
     "text": [
      "+----------------+-------+--------+------+\n",
      "|              dt|    lat|     lon|  Base|\n",
      "+----------------+-------+--------+------+\n",
      "|7/1/2014 0:03:00|40.7586|-73.9706|B02512|\n",
      "|7/1/2014 0:05:00|40.7605|-73.9994|B02512|\n",
      "|7/1/2014 0:06:00| 40.732|-73.9999|B02512|\n",
      "|7/1/2014 0:09:00|40.7635|-73.9793|B02512|\n",
      "|7/1/2014 0:20:00|40.7204|-74.0047|B02512|\n",
      "|7/1/2014 0:35:00|40.7487|-73.9869|B02512|\n",
      "|7/1/2014 0:57:00|40.7444|-73.9961|B02512|\n",
      "|7/1/2014 0:58:00|40.7132|-73.9492|B02512|\n",
      "|7/1/2014 1:04:00| 40.759| -73.973|B02512|\n",
      "|7/1/2014 1:08:00|40.7601|-73.9823|B02512|\n",
      "+----------------+-------+--------+------+\n",
      "only showing top 10 rows\n",
      "\n"
     ]
    }
   ],
   "source": [
    "uber_df = spark.createDataFrame(df)\n",
    "uber_df.show(10)"
   ]
  },
  {
   "cell_type": "code",
   "execution_count": 12,
   "metadata": {},
   "outputs": [],
   "source": [
    "from pyspark.sql.types import StructType, StructField, TimestampType, DoubleType, StringType\n",
    "\n",
    "schema = StructType([\n",
    "    StructField(\"dt\", TimestampType(), nullable=False),   # Timestamp\n",
    "    StructField(\"lat\", DoubleType(), nullable=False),     # Latitude\n",
    "    StructField(\"lon\", DoubleType(), nullable=False),     # Longitude\n",
    "    StructField(\"base\", StringType(), nullable=True)      # Base identifier\n",
    "])\n"
   ]
  },
  {
   "cell_type": "code",
   "execution_count": 13,
   "metadata": {},
   "outputs": [
    {
     "name": "stdout",
     "output_type": "stream",
     "text": [
      "+-------+----------------+--------------------+-------------------+\n",
      "|summary|              dt|                 lat|                lon|\n",
      "+-------+----------------+--------------------+-------------------+\n",
      "|  count|         1048575|             1048575|            1048575|\n",
      "|   mean|            NULL|  40.739535827098635| -73.97283149502887|\n",
      "| stddev|            NULL|0.040024489669462225|0.05822526662881502|\n",
      "|    min|6/1/2014 0:00:00|             39.7214|            -74.826|\n",
      "|    max|7/9/2014 9:59:00|             41.3413|           -72.3097|\n",
      "+-------+----------------+--------------------+-------------------+\n",
      "\n"
     ]
    }
   ],
   "source": [
    "uber_df.describe([\"dt\", \"lat\", \"lon\"]).show()"
   ]
  },
  {
   "cell_type": "markdown",
   "metadata": {},
   "source": [
    "##  Prepare Train and Test Set"
   ]
  },
  {
   "cell_type": "code",
   "execution_count": 14,
   "metadata": {},
   "outputs": [],
   "source": [
    "feature_columns = ['lat', 'lon']"
   ]
  },
  {
   "cell_type": "code",
   "execution_count": 15,
   "metadata": {},
   "outputs": [],
   "source": [
    "# Vectorize the numerical features first\n",
    "feature_assembler = VectorAssembler(inputCols=feature_columns, outputCol=\"features\")"
   ]
  },
  {
   "cell_type": "code",
   "execution_count": 16,
   "metadata": {},
   "outputs": [],
   "source": [
    "uber_assembled_df = feature_assembler.transform(uber_df)"
   ]
  },
  {
   "cell_type": "code",
   "execution_count": 17,
   "metadata": {},
   "outputs": [
    {
     "name": "stdout",
     "output_type": "stream",
     "text": [
      "+----------------+-------+--------+------+------------------+\n",
      "|              dt|    lat|     lon|  Base|          features|\n",
      "+----------------+-------+--------+------+------------------+\n",
      "|7/1/2014 0:03:00|40.7586|-73.9706|B02512|[40.7586,-73.9706]|\n",
      "|7/1/2014 0:05:00|40.7605|-73.9994|B02512|[40.7605,-73.9994]|\n",
      "|7/1/2014 0:06:00| 40.732|-73.9999|B02512| [40.732,-73.9999]|\n",
      "|7/1/2014 0:09:00|40.7635|-73.9793|B02512|[40.7635,-73.9793]|\n",
      "|7/1/2014 0:20:00|40.7204|-74.0047|B02512|[40.7204,-74.0047]|\n",
      "|7/1/2014 0:35:00|40.7487|-73.9869|B02512|[40.7487,-73.9869]|\n",
      "|7/1/2014 0:57:00|40.7444|-73.9961|B02512|[40.7444,-73.9961]|\n",
      "|7/1/2014 0:58:00|40.7132|-73.9492|B02512|[40.7132,-73.9492]|\n",
      "|7/1/2014 1:04:00| 40.759| -73.973|B02512|  [40.759,-73.973]|\n",
      "|7/1/2014 1:08:00|40.7601|-73.9823|B02512|[40.7601,-73.9823]|\n",
      "+----------------+-------+--------+------+------------------+\n",
      "only showing top 10 rows\n",
      "\n"
     ]
    }
   ],
   "source": [
    "uber_assembled_df.show(10)"
   ]
  },
  {
   "cell_type": "markdown",
   "metadata": {},
   "source": [
    "### 4.2 Split into Training and Testing Set:"
   ]
  },
  {
   "cell_type": "code",
   "execution_count": 41,
   "metadata": {},
   "outputs": [],
   "source": [
    "train_df, test_df = uber_assembled_df.randomSplit([0.7, 0.3], seed=rnd_seed)"
   ]
  },
  {
   "cell_type": "code",
   "execution_count": 42,
   "metadata": {},
   "outputs": [
    {
     "data": {
      "text/plain": [
       "DataFrame[dt: string, lat: double, lon: double, Base: string, features: vector]"
      ]
     },
     "execution_count": 42,
     "metadata": {},
     "output_type": "execute_result"
    },
    {
     "data": {
      "text/plain": [
       "DataFrame[dt: string, lat: double, lon: double, Base: string, features: vector]"
      ]
     },
     "execution_count": 42,
     "metadata": {},
     "output_type": "execute_result"
    }
   ],
   "source": [
    "# cache the training and testing set\n",
    "train_df.cache()\n",
    "test_df.cache()"
   ]
  },
  {
   "cell_type": "code",
   "execution_count": 43,
   "metadata": {},
   "outputs": [
    {
     "data": {
      "text/plain": [
       "DataFrame[dt: string, lat: double, lon: double, Base: string]"
      ]
     },
     "execution_count": 43,
     "metadata": {},
     "output_type": "execute_result"
    },
    {
     "data": {
      "text/plain": [
       "DataFrame[dt: string, lat: double, lon: double, Base: string, features: vector]"
      ]
     },
     "execution_count": 43,
     "metadata": {},
     "output_type": "execute_result"
    }
   ],
   "source": [
    "# remove the not needed dataframes\n",
    "uber_df.unpersist()\n",
    "uber_assembled_df.unpersist()"
   ]
  },
  {
   "cell_type": "markdown",
   "metadata": {},
   "source": [
    "### 5.1 Train k-Means:"
   ]
  },
  {
   "cell_type": "code",
   "execution_count": 44,
   "metadata": {},
   "outputs": [],
   "source": [
    "kmeans = KMeans(k=8, initMode='k-means||', featuresCol='features', predictionCol='cluster', maxIter=10)"
   ]
  },
  {
   "cell_type": "code",
   "execution_count": 45,
   "metadata": {},
   "outputs": [],
   "source": [
    "kmModel = kmeans.fit(train_df)"
   ]
  },
  {
   "cell_type": "code",
   "execution_count": 46,
   "metadata": {},
   "outputs": [
    {
     "data": {
      "text/plain": [
       "[array([ 40.764 , -73.9738]),\n",
       " array([ 40.7306, -73.9985]),\n",
       " array([ 40.7635, -73.8737]),\n",
       " array([ 40.6873, -73.9657]),\n",
       " array([ 40.818 , -73.5456]),\n",
       " array([ 40.6549, -73.7806]),\n",
       " array([ 40.6985, -74.2044]),\n",
       " array([ 40.8576, -73.9165])]"
      ]
     },
     "execution_count": 46,
     "metadata": {},
     "output_type": "execute_result"
    }
   ],
   "source": [
    "centriods  = kmModel.clusterCenters()\n",
    "centriods"
   ]
  },
  {
   "cell_type": "code",
   "execution_count": 47,
   "metadata": {},
   "outputs": [
    {
     "data": {
      "text/html": [
       "<div>\n",
       "<style scoped>\n",
       "    .dataframe tbody tr th:only-of-type {\n",
       "        vertical-align: middle;\n",
       "    }\n",
       "\n",
       "    .dataframe tbody tr th {\n",
       "        vertical-align: top;\n",
       "    }\n",
       "\n",
       "    .dataframe thead th {\n",
       "        text-align: right;\n",
       "    }\n",
       "</style>\n",
       "<table border=\"1\" class=\"dataframe\">\n",
       "  <thead>\n",
       "    <tr style=\"text-align: right;\">\n",
       "      <th></th>\n",
       "      <th>Latitude</th>\n",
       "      <th>Longitude</th>\n",
       "    </tr>\n",
       "  </thead>\n",
       "  <tbody>\n",
       "    <tr>\n",
       "      <th>0</th>\n",
       "      <td>40.763988</td>\n",
       "      <td>-73.973774</td>\n",
       "    </tr>\n",
       "    <tr>\n",
       "      <th>1</th>\n",
       "      <td>40.730562</td>\n",
       "      <td>-73.998486</td>\n",
       "    </tr>\n",
       "    <tr>\n",
       "      <th>2</th>\n",
       "      <td>40.763501</td>\n",
       "      <td>-73.873660</td>\n",
       "    </tr>\n",
       "    <tr>\n",
       "      <th>3</th>\n",
       "      <td>40.687253</td>\n",
       "      <td>-73.965664</td>\n",
       "    </tr>\n",
       "    <tr>\n",
       "      <th>4</th>\n",
       "      <td>40.817975</td>\n",
       "      <td>-73.545632</td>\n",
       "    </tr>\n",
       "    <tr>\n",
       "      <th>5</th>\n",
       "      <td>40.654889</td>\n",
       "      <td>-73.780626</td>\n",
       "    </tr>\n",
       "    <tr>\n",
       "      <th>6</th>\n",
       "      <td>40.698476</td>\n",
       "      <td>-74.204421</td>\n",
       "    </tr>\n",
       "    <tr>\n",
       "      <th>7</th>\n",
       "      <td>40.857620</td>\n",
       "      <td>-73.916462</td>\n",
       "    </tr>\n",
       "  </tbody>\n",
       "</table>\n",
       "</div>"
      ],
      "text/plain": [
       "    Latitude  Longitude\n",
       "0  40.763988 -73.973774\n",
       "1  40.730562 -73.998486\n",
       "2  40.763501 -73.873660\n",
       "3  40.687253 -73.965664\n",
       "4  40.817975 -73.545632\n",
       "5  40.654889 -73.780626\n",
       "6  40.698476 -74.204421\n",
       "7  40.857620 -73.916462"
      ]
     },
     "execution_count": 47,
     "metadata": {},
     "output_type": "execute_result"
    }
   ],
   "source": [
    "center_locations = pd.DataFrame(centriods)\n",
    "center_locations.columns=[\"Latitude\", \"Longitude\"]\n",
    "center_locations"
   ]
  },
  {
   "cell_type": "code",
   "execution_count": 48,
   "metadata": {},
   "outputs": [
    {
     "data": {
      "image/png": "[encoded data removed]",
      "text/plain": [
       "<Figure size 1800x400 with 1 Axes>"
      ]
     },
     "metadata": {
      "image/png": {
       "height": 355,
       "width": 1466
      }
     },
     "output_type": "display_data"
    }
   ],
   "source": [
    "plt.scatter(center_locations[\"Latitude\"],center_locations['Longitude'], marker = 'x', color = 'Red', s = 200)\n",
    "plt.show();"
   ]
  },
  {
   "cell_type": "code",
   "execution_count": 49,
   "metadata": {},
   "outputs": [
    {
     "data": {
      "text/plain": [
       "<folium.map.Marker at 0x28ee20caa40>"
      ]
     },
     "execution_count": 49,
     "metadata": {},
     "output_type": "execute_result"
    },
    {
     "data": {
      "text/plain": [
       "<folium.map.Marker at 0x28ee3e9ee30>"
      ]
     },
     "execution_count": 49,
     "metadata": {},
     "output_type": "execute_result"
    },
    {
     "data": {
      "text/plain": [
       "<folium.map.Marker at 0x28ee0893eb0>"
      ]
     },
     "execution_count": 49,
     "metadata": {},
     "output_type": "execute_result"
    },
    {
     "data": {
      "text/plain": [
       "<folium.map.Marker at 0x28ee3f296f0>"
      ]
     },
     "execution_count": 49,
     "metadata": {},
     "output_type": "execute_result"
    },
    {
     "data": {
      "text/plain": [
       "<folium.map.Marker at 0x28ee3f29630>"
      ]
     },
     "execution_count": 49,
     "metadata": {},
     "output_type": "execute_result"
    },
    {
     "data": {
      "text/plain": [
       "<folium.map.Marker at 0x28ee3f28fd0>"
      ]
     },
     "execution_count": 49,
     "metadata": {},
     "output_type": "execute_result"
    },
    {
     "data": {
      "text/plain": [
       "<folium.map.Marker at 0x28ee3f28250>"
      ]
     },
     "execution_count": 49,
     "metadata": {},
     "output_type": "execute_result"
    },
    {
     "data": {
      "text/plain": [
       "<folium.map.Marker at 0x28ee0892d70>"
      ]
     },
     "execution_count": 49,
     "metadata": {},
     "output_type": "execute_result"
    },
    {
     "data": {
      "text/html": [
       "<div style=\"width:100%;\"><div style=\"position:relative;width:100%;height:0;padding-bottom:60%;\"><span style=\"color:#565656\">Make this Notebook Trusted to load map: File -> Trust Notebook</span><iframe srcdoc=\"&lt;!DOCTYPE html&gt;\n",
       "&lt;html&gt;\n",
       "&lt;head&gt;\n",
       "    \n",
       "    &lt;meta http-equiv=&quot;content-type&quot; content=&quot;text/html; charset=UTF-8&quot; /&gt;\n",
       "    \n",
       "        &lt;script&gt;\n",
       "            L_NO_TOUCH = false;\n",
       "            L_DISABLE_3D = false;\n",
       "        &lt;/script&gt;\n",
       "    \n",
       "    &lt;style&gt;html, body {width: 100%;height: 100%;margin: 0;padding: 0;}&lt;/style&gt;\n",
       "    &lt;style&gt;#map {position:absolute;top:0;bottom:0;right:0;left:0;}&lt;/style&gt;\n",
       "    &lt;script src=&quot;https://cdn.jsdelivr.net/npm/leaflet@1.9.3/dist/leaflet.js&quot;&gt;&lt;/script&gt;\n",
       "    &lt;script src=&quot;https://code.jquery.com/jquery-3.7.1.min.js&quot;&gt;&lt;/script&gt;\n",
       "    &lt;script src=&quot;https://cdn.jsdelivr.net/npm/bootstrap@5.2.2/dist/js/bootstrap.bundle.min.js&quot;&gt;&lt;/script&gt;\n",
       "    &lt;script src=&quot;https://cdnjs.cloudflare.com/ajax/libs/Leaflet.awesome-markers/2.0.2/leaflet.awesome-markers.js&quot;&gt;&lt;/script&gt;\n",
       "    &lt;link rel=&quot;stylesheet&quot; href=&quot;https://cdn.jsdelivr.net/npm/leaflet@1.9.3/dist/leaflet.css&quot;/&gt;\n",
       "    &lt;link rel=&quot;stylesheet&quot; href=&quot;https://cdn.jsdelivr.net/npm/bootstrap@5.2.2/dist/css/bootstrap.min.css&quot;/&gt;\n",
       "    &lt;link rel=&quot;stylesheet&quot; href=&quot;https://netdna.bootstrapcdn.com/bootstrap/3.0.0/css/bootstrap-glyphicons.css&quot;/&gt;\n",
       "    &lt;link rel=&quot;stylesheet&quot; href=&quot;https://cdn.jsdelivr.net/npm/@fortawesome/fontawesome-free@6.2.0/css/all.min.css&quot;/&gt;\n",
       "    &lt;link rel=&quot;stylesheet&quot; href=&quot;https://cdnjs.cloudflare.com/ajax/libs/Leaflet.awesome-markers/2.0.2/leaflet.awesome-markers.css&quot;/&gt;\n",
       "    &lt;link rel=&quot;stylesheet&quot; href=&quot;https://cdn.jsdelivr.net/gh/python-visualization/folium/folium/templates/leaflet.awesome.rotate.min.css&quot;/&gt;\n",
       "    \n",
       "            &lt;meta name=&quot;viewport&quot; content=&quot;width=device-width,\n",
       "                initial-scale=1.0, maximum-scale=1.0, user-scalable=no&quot; /&gt;\n",
       "            &lt;style&gt;\n",
       "                #map_84c15cf34afdf5c51ff2e7f9b0190736 {\n",
       "                    position: relative;\n",
       "                    width: 100.0%;\n",
       "                    height: 100.0%;\n",
       "                    left: 0.0%;\n",
       "                    top: 0.0%;\n",
       "                }\n",
       "                .leaflet-container { font-size: 1rem; }\n",
       "            &lt;/style&gt;\n",
       "        \n",
       "&lt;/head&gt;\n",
       "&lt;body&gt;\n",
       "    \n",
       "    \n",
       "            &lt;div class=&quot;folium-map&quot; id=&quot;map_84c15cf34afdf5c51ff2e7f9b0190736&quot; &gt;&lt;/div&gt;\n",
       "        \n",
       "&lt;/body&gt;\n",
       "&lt;script&gt;\n",
       "    \n",
       "    \n",
       "            var map_84c15cf34afdf5c51ff2e7f9b0190736 = L.map(\n",
       "                &quot;map_84c15cf34afdf5c51ff2e7f9b0190736&quot;,\n",
       "                {\n",
       "                    center: [40.79658011772687, -73.87341741832425],\n",
       "                    crs: L.CRS.EPSG3857,\n",
       "                    zoom: 10,\n",
       "                    zoomControl: true,\n",
       "                    preferCanvas: false,\n",
       "                }\n",
       "            );\n",
       "\n",
       "            \n",
       "\n",
       "        \n",
       "    \n",
       "            var tile_layer_1eeb4b784f510cabcb825ae303879268 = L.tileLayer(\n",
       "                &quot;https://tile.openstreetmap.org/{z}/{x}/{y}.png&quot;,\n",
       "                {&quot;attribution&quot;: &quot;\\u0026copy; \\u003ca href=\\&quot;https://www.openstreetmap.org/copyright\\&quot;\\u003eOpenStreetMap\\u003c/a\\u003e contributors&quot;, &quot;detectRetina&quot;: false, &quot;maxNativeZoom&quot;: 19, &quot;maxZoom&quot;: 19, &quot;minZoom&quot;: 0, &quot;noWrap&quot;: false, &quot;opacity&quot;: 1, &quot;subdomains&quot;: &quot;abc&quot;, &quot;tms&quot;: false}\n",
       "            );\n",
       "        \n",
       "    \n",
       "            tile_layer_1eeb4b784f510cabcb825ae303879268.addTo(map_84c15cf34afdf5c51ff2e7f9b0190736);\n",
       "        \n",
       "    \n",
       "            var marker_a00d8a3483d47a60cded77b00bded9c8 = L.marker(\n",
       "                [40.763988452848054, -73.97377382368393],\n",
       "                {}\n",
       "            ).addTo(map_84c15cf34afdf5c51ff2e7f9b0190736);\n",
       "        \n",
       "    \n",
       "        var popup_ce647d49a720157c12e9b4df97afbdac = L.popup({&quot;maxWidth&quot;: &quot;100%&quot;});\n",
       "\n",
       "        \n",
       "            \n",
       "                var html_8270f92cf1fb8b655b24b65aeef0ddc4 = $(`&lt;div id=&quot;html_8270f92cf1fb8b655b24b65aeef0ddc4&quot; style=&quot;width: 100.0%; height: 100.0%;&quot;&gt;[40.763988452848054, -73.97377382368393]&lt;/div&gt;`)[0];\n",
       "                popup_ce647d49a720157c12e9b4df97afbdac.setContent(html_8270f92cf1fb8b655b24b65aeef0ddc4);\n",
       "            \n",
       "        \n",
       "\n",
       "        marker_a00d8a3483d47a60cded77b00bded9c8.bindPopup(popup_ce647d49a720157c12e9b4df97afbdac)\n",
       "        ;\n",
       "\n",
       "        \n",
       "    \n",
       "    \n",
       "            var marker_518485bc7e294b6d976f472fff423d9b = L.marker(\n",
       "                [40.730561994170365, -73.99848607611519],\n",
       "                {}\n",
       "            ).addTo(map_84c15cf34afdf5c51ff2e7f9b0190736);\n",
       "        \n",
       "    \n",
       "        var popup_fd0cc05fff86345fda9f14e45fdd10d5 = L.popup({&quot;maxWidth&quot;: &quot;100%&quot;});\n",
       "\n",
       "        \n",
       "            \n",
       "                var html_1efa673caff8989a2797ad062561e163 = $(`&lt;div id=&quot;html_1efa673caff8989a2797ad062561e163&quot; style=&quot;width: 100.0%; height: 100.0%;&quot;&gt;[40.730561994170365, -73.99848607611519]&lt;/div&gt;`)[0];\n",
       "                popup_fd0cc05fff86345fda9f14e45fdd10d5.setContent(html_1efa673caff8989a2797ad062561e163);\n",
       "            \n",
       "        \n",
       "\n",
       "        marker_518485bc7e294b6d976f472fff423d9b.bindPopup(popup_fd0cc05fff86345fda9f14e45fdd10d5)\n",
       "        ;\n",
       "\n",
       "        \n",
       "    \n",
       "    \n",
       "            var marker_4cbefc8533410f5a06ced3b137325783 = L.marker(\n",
       "                [40.76350085172828, -73.87365991553702],\n",
       "                {}\n",
       "            ).addTo(map_84c15cf34afdf5c51ff2e7f9b0190736);\n",
       "        \n",
       "    \n",
       "        var popup_5a933bf472cb8d122b89bc592d4e913d = L.popup({&quot;maxWidth&quot;: &quot;100%&quot;});\n",
       "\n",
       "        \n",
       "            \n",
       "                var html_f1763bbedbe0313056556ce2ff96c9f4 = $(`&lt;div id=&quot;html_f1763bbedbe0313056556ce2ff96c9f4&quot; style=&quot;width: 100.0%; height: 100.0%;&quot;&gt;[40.76350085172828, -73.87365991553702]&lt;/div&gt;`)[0];\n",
       "                popup_5a933bf472cb8d122b89bc592d4e913d.setContent(html_f1763bbedbe0313056556ce2ff96c9f4);\n",
       "            \n",
       "        \n",
       "\n",
       "        marker_4cbefc8533410f5a06ced3b137325783.bindPopup(popup_5a933bf472cb8d122b89bc592d4e913d)\n",
       "        ;\n",
       "\n",
       "        \n",
       "    \n",
       "    \n",
       "            var marker_d533039b976b9023093ad901fddfa280 = L.marker(\n",
       "                [40.68725280021575, -73.9656643684487],\n",
       "                {}\n",
       "            ).addTo(map_84c15cf34afdf5c51ff2e7f9b0190736);\n",
       "        \n",
       "    \n",
       "        var popup_693272d1d73b2c861d7635d12b8992e3 = L.popup({&quot;maxWidth&quot;: &quot;100%&quot;});\n",
       "\n",
       "        \n",
       "            \n",
       "                var html_44e3f58ef0732674f11756fdee8ea601 = $(`&lt;div id=&quot;html_44e3f58ef0732674f11756fdee8ea601&quot; style=&quot;width: 100.0%; height: 100.0%;&quot;&gt;[40.68725280021575, -73.9656643684487]&lt;/div&gt;`)[0];\n",
       "                popup_693272d1d73b2c861d7635d12b8992e3.setContent(html_44e3f58ef0732674f11756fdee8ea601);\n",
       "            \n",
       "        \n",
       "\n",
       "        marker_d533039b976b9023093ad901fddfa280.bindPopup(popup_693272d1d73b2c861d7635d12b8992e3)\n",
       "        ;\n",
       "\n",
       "        \n",
       "    \n",
       "    \n",
       "            var marker_05340732b01ae45bc93ab7205943c433 = L.marker(\n",
       "                [40.81797537942663, -73.54563233558177],\n",
       "                {}\n",
       "            ).addTo(map_84c15cf34afdf5c51ff2e7f9b0190736);\n",
       "        \n",
       "    \n",
       "        var popup_0d212c0e4e8b0fc49553eb5ddd105999 = L.popup({&quot;maxWidth&quot;: &quot;100%&quot;});\n",
       "\n",
       "        \n",
       "            \n",
       "                var html_de1cdd36f25efb8b952dfacb3f15c9fd = $(`&lt;div id=&quot;html_de1cdd36f25efb8b952dfacb3f15c9fd&quot; style=&quot;width: 100.0%; height: 100.0%;&quot;&gt;[40.81797537942663, -73.54563233558177]&lt;/div&gt;`)[0];\n",
       "                popup_0d212c0e4e8b0fc49553eb5ddd105999.setContent(html_de1cdd36f25efb8b952dfacb3f15c9fd);\n",
       "            \n",
       "        \n",
       "\n",
       "        marker_05340732b01ae45bc93ab7205943c433.bindPopup(popup_0d212c0e4e8b0fc49553eb5ddd105999)\n",
       "        ;\n",
       "\n",
       "        \n",
       "    \n",
       "    \n",
       "            var marker_e59cf2f2df112bf955a0466ecaf4bb7f = L.marker(\n",
       "                [40.65488862972392, -73.780625972641],\n",
       "                {}\n",
       "            ).addTo(map_84c15cf34afdf5c51ff2e7f9b0190736);\n",
       "        \n",
       "    \n",
       "        var popup_93bb7c5bbc81888a8d2888746bd3a88d = L.popup({&quot;maxWidth&quot;: &quot;100%&quot;});\n",
       "\n",
       "        \n",
       "            \n",
       "                var html_d7d487865e9c5137b0dadec0f8a6054e = $(`&lt;div id=&quot;html_d7d487865e9c5137b0dadec0f8a6054e&quot; style=&quot;width: 100.0%; height: 100.0%;&quot;&gt;[40.65488862972392, -73.780625972641]&lt;/div&gt;`)[0];\n",
       "                popup_93bb7c5bbc81888a8d2888746bd3a88d.setContent(html_d7d487865e9c5137b0dadec0f8a6054e);\n",
       "            \n",
       "        \n",
       "\n",
       "        marker_e59cf2f2df112bf955a0466ecaf4bb7f.bindPopup(popup_93bb7c5bbc81888a8d2888746bd3a88d)\n",
       "        ;\n",
       "\n",
       "        \n",
       "    \n",
       "    \n",
       "            var marker_8633f784b34bcbee51cce4d5258054dd = L.marker(\n",
       "                [40.698475681255104, -74.20442090558763],\n",
       "                {}\n",
       "            ).addTo(map_84c15cf34afdf5c51ff2e7f9b0190736);\n",
       "        \n",
       "    \n",
       "        var popup_d05226d8dab2716aa9fd42f6fc1c8511 = L.popup({&quot;maxWidth&quot;: &quot;100%&quot;});\n",
       "\n",
       "        \n",
       "            \n",
       "                var html_4d4b0885e2ed4c5fdf75c0ead2ffa0e0 = $(`&lt;div id=&quot;html_4d4b0885e2ed4c5fdf75c0ead2ffa0e0&quot; style=&quot;width: 100.0%; height: 100.0%;&quot;&gt;[40.698475681255104, -74.20442090558763]&lt;/div&gt;`)[0];\n",
       "                popup_d05226d8dab2716aa9fd42f6fc1c8511.setContent(html_4d4b0885e2ed4c5fdf75c0ead2ffa0e0);\n",
       "            \n",
       "        \n",
       "\n",
       "        marker_8633f784b34bcbee51cce4d5258054dd.bindPopup(popup_d05226d8dab2716aa9fd42f6fc1c8511)\n",
       "        ;\n",
       "\n",
       "        \n",
       "    \n",
       "    \n",
       "            var marker_443d035ed697036b1d5307c5b3be9d69 = L.marker(\n",
       "                [40.85762012406231, -73.91646180034623],\n",
       "                {}\n",
       "            ).addTo(map_84c15cf34afdf5c51ff2e7f9b0190736);\n",
       "        \n",
       "    \n",
       "        var popup_2de703c7d75bc23cb6026ca4f0096c28 = L.popup({&quot;maxWidth&quot;: &quot;100%&quot;});\n",
       "\n",
       "        \n",
       "            \n",
       "                var html_63bdb891ed841aa9fdd75b267675785d = $(`&lt;div id=&quot;html_63bdb891ed841aa9fdd75b267675785d&quot; style=&quot;width: 100.0%; height: 100.0%;&quot;&gt;[40.85762012406231, -73.91646180034623]&lt;/div&gt;`)[0];\n",
       "                popup_2de703c7d75bc23cb6026ca4f0096c28.setContent(html_63bdb891ed841aa9fdd75b267675785d);\n",
       "            \n",
       "        \n",
       "\n",
       "        marker_443d035ed697036b1d5307c5b3be9d69.bindPopup(popup_2de703c7d75bc23cb6026ca4f0096c28)\n",
       "        ;\n",
       "\n",
       "        \n",
       "    \n",
       "&lt;/script&gt;\n",
       "&lt;/html&gt;\" style=\"position:absolute;width:100%;height:100%;left:0;top:0;border:none !important;\" allowfullscreen webkitallowfullscreen mozallowfullscreen></iframe></div></div>"
      ],
      "text/plain": [
       "<folium.folium.Map at 0x28ee20cab30>"
      ]
     },
     "execution_count": 49,
     "metadata": {},
     "output_type": "execute_result"
    }
   ],
   "source": [
    "# Converting centroid into lists\n",
    "centroid = center_locations.values.tolist()\n",
    "# Plotting the centroids on google map using Folium library.\n",
    "map = folium.Map(location=[40.79658011772687, -73.87341741832425], zoom_start = 10)\n",
    "for point in range(0, len(centroid)):\n",
    "    folium.Marker(centroid[point], popup = centroid[point]).add_to(map)\n",
    "map"
   ]
  },
  {
   "cell_type": "markdown",
   "metadata": {},
   "source": [
    "### 5.2 Predict with k-Means:"
   ]
  },
  {
   "cell_type": "code",
   "execution_count": 50,
   "metadata": {},
   "outputs": [
    {
     "data": {
      "text/plain": [
       "DataFrame[dt: string, lat: double, lon: double, Base: string, features: vector, cluster: int]"
      ]
     },
     "execution_count": 50,
     "metadata": {},
     "output_type": "execute_result"
    }
   ],
   "source": [
    "test_preds = kmModel.transform(test_df)\n",
    "test_preds.cache()"
   ]
  },
  {
   "cell_type": "code",
   "execution_count": 51,
   "metadata": {
    "scrolled": true
   },
   "outputs": [
    {
     "name": "stdout",
     "output_type": "stream",
     "text": [
      "+----------------+-------+--------+------+------------------+-------+\n",
      "|              dt|    lat|     lon|  Base|          features|cluster|\n",
      "+----------------+-------+--------+------+------------------+-------+\n",
      "|7/1/2014 0:04:00|40.7107|-73.8444|B02598|[40.7107,-73.8444]|      2|\n",
      "|7/1/2014 0:05:00|40.7605|-73.9994|B02512|[40.7605,-73.9994]|      0|\n",
      "|7/1/2014 0:06:00|40.7513|-74.0066|B02598|[40.7513,-74.0066]|      1|\n",
      "|7/1/2014 0:06:00|40.7636|-73.9755|B02598|[40.7636,-73.9755]|      0|\n",
      "|7/1/2014 0:09:00|40.7635|-73.9793|B02512|[40.7635,-73.9793]|      0|\n",
      "|7/1/2014 0:10:00|40.7207|-73.9975|B02598|[40.7207,-73.9975]|      1|\n",
      "|7/1/2014 0:13:00| 40.662|-73.9872|B02598| [40.662,-73.9872]|      3|\n",
      "|7/1/2014 0:15:00|40.7708|-73.9619|B02598|[40.7708,-73.9619]|      0|\n",
      "|7/1/2014 0:17:00|40.7224|-74.0038|B02598|[40.7224,-74.0038]|      1|\n",
      "|7/1/2014 0:18:00|40.7664|-73.9663|B02598|[40.7664,-73.9663]|      0|\n",
      "+----------------+-------+--------+------+------------------+-------+\n",
      "only showing top 10 rows\n",
      "\n"
     ]
    }
   ],
   "source": [
    "test_preds.show(10)"
   ]
  },
  {
   "cell_type": "code",
   "execution_count": 52,
   "metadata": {},
   "outputs": [
    {
     "name": "stdout",
     "output_type": "stream",
     "text": [
      "[281385, 291932, 28231, 89107, 2297, 21573, 7266, 12524]\n"
     ]
    }
   ],
   "source": [
    "print(kmModel.summary.clusterSizes) # No of pints in each cluster"
   ]
  },
  {
   "cell_type": "markdown",
   "metadata": {},
   "source": [
    "### 5.4 Persist k-means Model:"
   ]
  },
  {
   "cell_type": "code",
   "execution_count": 53,
   "metadata": {},
   "outputs": [],
   "source": [
    "#kmModel.write().overwrite().save(\"C:/Users/saivi/spark-3.5.3-bin-hadoop3/project/model\")\n",
    "#kmModel.write().overwrite().save(\"file:///C:/Users/saivi/spark-3.5.3-bin-hadoop3/project/model\")\n"
   ]
  },
  {
   "cell_type": "markdown",
   "metadata": {},
   "source": [
    "##   Data Exploration\n",
    "\n",
    "We can use Spark SQL to explore the dataset. Here are some example queries using the Spark SQL. We will also replicate the same results that we get using Spark SQL by calling the Spark Dataframe APIs directly."
   ]
  },
  {
   "cell_type": "code",
   "execution_count": 60,
   "metadata": {},
   "outputs": [],
   "source": [
    "from pyspark.sql.functions import col, to_timestamp\n",
    "import re\n",
    "from pyspark.sql.functions import col, to_timestamp, hour, udf\n",
    "import matplotlib.pyplot as plt\n",
    "import seaborn as sns\n",
    "\n",
    "test_preds.createOrReplaceTempView(\"test_preds\")"
   ]
  },
  {
   "cell_type": "code",
   "execution_count": 61,
   "metadata": {},
   "outputs": [],
   "source": [
    "import re\n",
    "\n",
    "def strip_margin(text):\n",
    "    nomargin = re.sub('\\n[ \\t]*\\|', ' ', text)  # Remove leading '|'\n",
    "    trimmed = re.sub('\\s+', ' ', nomargin)  # Replace multiple spaces with a single space\n",
    "    return trimmed"
   ]
  },
  {
   "cell_type": "markdown",
   "metadata": {},
   "source": [
    "### Which hours of the day and which cluster had the highest number of pickups?"
   ]
  },
  {
   "cell_type": "code",
   "execution_count": 62,
   "metadata": {},
   "outputs": [
    {
     "name": "stdout",
     "output_type": "stream",
     "text": [
      "+----+-------+------+\n",
      "|hour|cluster| count|\n",
      "+----+-------+------+\n",
      "|NULL|      1|124566|\n",
      "|NULL|      0|120476|\n",
      "|NULL|      3| 38212|\n",
      "|NULL|      2| 12110|\n",
      "|NULL|      5|  9301|\n",
      "|NULL|      7|  5359|\n",
      "|NULL|      6|  3216|\n",
      "|NULL|      4|  1020|\n",
      "+----+-------+------+\n",
      "\n"
     ]
    },
    {
     "data": {
      "image/png": "[encoded data removed]",
      "text/plain": [
       "<Figure size 1800x400 with 1 Axes>"
      ]
     },
     "metadata": {
      "image/png": {
       "height": 376,
       "width": 1487
      }
     },
     "output_type": "display_data"
    }
   ],
   "source": [
    "sql_result_df = spark.sql(strip_margin(\n",
    "                        \"\"\"SELECT \n",
    "                          |    HOUR(dt) AS hour, \n",
    "                          |    cluster,\n",
    "                          |    COUNT(*) as count\n",
    "                          |FROM test_preds\n",
    "                          |GROUP BY hour, cluster\n",
    "                          |ORDER BY count DESC\n",
    "                        \"\"\"))\n",
    "sql_result_df.cache()\n",
    "\n",
    "sql_result_df.show(10)\n",
    "\n",
    "plt.figure(figsize=(18,4))\n",
    "sns.barplot(x=\"hour\", y=\"count\", hue=\"cluster\", data=sql_result_df.toPandas());"
   ]
  },
  {
   "cell_type": "code",
   "execution_count": 63,
   "metadata": {},
   "outputs": [
    {
     "name": "stdout",
     "output_type": "stream",
     "text": [
      "+----+-------+------+\n",
      "|hour|cluster| count|\n",
      "+----+-------+------+\n",
      "|NULL|      1|124566|\n",
      "|NULL|      0|120476|\n",
      "|NULL|      3| 38212|\n",
      "|NULL|      2| 12110|\n",
      "|NULL|      5|  9301|\n",
      "|NULL|      7|  5359|\n",
      "|NULL|      6|  3216|\n",
      "|NULL|      4|  1020|\n",
      "+----+-------+------+\n",
      "\n"
     ]
    }
   ],
   "source": [
    "(test_preds\n",
    "    .select(F.hour(\"dt\").alias(\"hour\"), \"cluster\")\n",
    "    .groupBy([\"hour\", \"cluster\"])\n",
    "    .count()\n",
    "    .orderBy(F.desc(\"count\"))).show(10)"
   ]
  },
  {
   "cell_type": "markdown",
   "metadata": {},
   "source": [
    "### How many pickups occurred in each cluster?"
   ]
  },
  {
   "cell_type": "code",
   "execution_count": 104,
   "metadata": {},
   "outputs": [
    {
     "name": "stdout",
     "output_type": "stream",
     "text": [
      "+-------+------+\n",
      "|cluster| count|\n",
      "+-------+------+\n",
      "|      0|120476|\n",
      "|      1|124566|\n",
      "|      2| 12110|\n",
      "|      3| 38212|\n",
      "|      4|  1020|\n",
      "|      5|  9301|\n",
      "|      6|  3216|\n",
      "|      7|  5359|\n",
      "+-------+------+\n",
      "\n"
     ]
    },
    {
     "data": {
      "image/png": "[encoded data removed]",
      "text/plain": [
       "<Figure size 1800x400 with 1 Axes>"
      ]
     },
     "metadata": {
      "image/png": {
       "height": 397,
       "width": 1500
      }
     },
     "output_type": "display_data"
    }
   ],
   "source": [
    "sql_result_df = spark.sql(strip_margin(\n",
    "                        \"\"\"SELECT cluster, COUNT(cluster) AS count\n",
    "                          |FROM test_preds\n",
    "                          |GROUP BY cluster\n",
    "                          |ORDER BY cluster\n",
    "                        \"\"\"))\n",
    "sql_result_df.cache()\n",
    "\n",
    "sql_result_df.show(10)\n",
    "\n",
    "plt.figure(figsize=(18,4))\n",
    "sns.barplot(x=\"cluster\", y=\"count\", data=sql_result_df.toPandas())\n",
    "plt.title(\"Total Pickups By Cluster\");"
   ]
  },
  {
   "cell_type": "code",
   "execution_count": 86,
   "metadata": {},
   "outputs": [
    {
     "name": "stdout",
     "output_type": "stream",
     "text": [
      "+-------+------+\n",
      "|cluster| count|\n",
      "+-------+------+\n",
      "|      0|120476|\n",
      "|      1|124566|\n",
      "|      2| 12110|\n",
      "|      3| 38212|\n",
      "|      4|  1020|\n",
      "|      5|  9301|\n",
      "|      6|  3216|\n",
      "|      7|  5359|\n",
      "+-------+------+\n",
      "\n"
     ]
    }
   ],
   "source": [
    "(test_preds\n",
    "    .groupBy(\"cluster\")\n",
    "    .count()\n",
    "    .orderBy(\"cluster\")).show(10)"
   ]
  },
  {
   "cell_type": "markdown",
   "metadata": {},
   "source": [
    "###  How many pickups occurred in each hour?"
   ]
  },
  {
   "cell_type": "code",
   "execution_count": 105,
   "metadata": {},
   "outputs": [
    {
     "name": "stdout",
     "output_type": "stream",
     "text": [
      "+----+-----+\n",
      "|hour|count|\n",
      "+----+-----+\n",
      "|   0| 6974|\n",
      "|   1| 4362|\n",
      "|   2| 3217|\n",
      "|   3| 3486|\n",
      "|   4| 3824|\n",
      "|   5| 5749|\n",
      "|   6| 9463|\n",
      "|   7|13391|\n",
      "|   8|13279|\n",
      "|   9|11384|\n",
      "+----+-----+\n",
      "only showing top 10 rows\n",
      "\n"
     ]
    },
    {
     "data": {
      "image/png": "[encoded data removed]",
      "text/plain": [
       "<Figure size 1800x400 with 1 Axes>"
      ]
     },
     "metadata": {
      "image/png": {
       "height": 397,
       "width": 1491
      }
     },
     "output_type": "display_data"
    }
   ],
   "source": [
    "sql_result_df = spark.sql(strip_margin(\n",
    "                        \"\"\"SELECT \n",
    "                          |    HOUR(dt) AS hour, \n",
    "                          |    COUNT(cluster) AS count\n",
    "                          |FROM test_preds\n",
    "                          |GROUP BY hour\n",
    "                          |ORDER BY hour\n",
    "                        \"\"\"))\n",
    "sql_result_df.cache()\n",
    "\n",
    "sql_result_df.show(10)\n",
    "\n",
    "plt.figure(figsize=(18,4))\n",
    "sns.barplot(x=\"hour\", y=\"count\", data=sql_result_df.toPandas())\n",
    "plt.title(\"Total Pickups By Hour\");\n"
   ]
  },
  {
   "cell_type": "code",
   "execution_count": 91,
   "metadata": {},
   "outputs": [
    {
     "name": "stdout",
     "output_type": "stream",
     "text": [
      "+----+-----+\n",
      "|hour|count|\n",
      "+----+-----+\n",
      "|   0| 6974|\n",
      "|   1| 4362|\n",
      "|   2| 3217|\n",
      "|   3| 3486|\n",
      "|   4| 3824|\n",
      "|   5| 5749|\n",
      "|   6| 9463|\n",
      "|   7|13391|\n",
      "|   8|13279|\n",
      "|   9|11384|\n",
      "+----+-----+\n",
      "only showing top 10 rows\n",
      "\n"
     ]
    }
   ],
   "source": [
    "(test_preds\n",
    "    .select(F.hour(\"dt\").alias(\"hour\"))\n",
    "    .groupBy(\"hour\")\n",
    "    .count()\n",
    "    .orderBy(\"hour\")).show(10)"
   ]
  },
  {
   "cell_type": "code",
   "execution_count": 108,
   "metadata": {},
   "outputs": [
    {
     "name": "stdout",
     "output_type": "stream",
     "text": [
      "+-----------+-------+-----+\n",
      "|time_of_day|cluster|count|\n",
      "+-----------+-------+-----+\n",
      "|  Afternoon|      0|34040|\n",
      "|  Afternoon|      1|31996|\n",
      "|  Afternoon|      3| 8375|\n",
      "|  Afternoon|      2| 3116|\n",
      "|  Afternoon|      5| 2661|\n",
      "|  Afternoon|      7| 1423|\n",
      "|  Afternoon|      6| 1012|\n",
      "|  Afternoon|      4|  315|\n",
      "|    Evening|      0|35207|\n",
      "|    Evening|      1|34391|\n",
      "|    Evening|      3| 8419|\n",
      "|    Evening|      2| 3232|\n",
      "|    Evening|      5| 2265|\n",
      "|    Evening|      7| 1147|\n",
      "|    Evening|      6|  698|\n",
      "|    Evening|      4|  251|\n",
      "|    Morning|      0|30715|\n",
      "|    Morning|      1|27672|\n",
      "|    Morning|      3|10741|\n",
      "|    Morning|      2| 3261|\n",
      "+-----------+-------+-----+\n",
      "only showing top 20 rows\n",
      "\n"
     ]
    },
    {
     "data": {
      "text/plain": [
       "<Figure size 1200x600 with 0 Axes>"
      ]
     },
     "execution_count": 108,
     "metadata": {},
     "output_type": "execute_result"
    },
    {
     "data": {
      "text/plain": [
       "<Axes: xlabel='time_of_day', ylabel='count'>"
      ]
     },
     "execution_count": 108,
     "metadata": {},
     "output_type": "execute_result"
    },
    {
     "data": {
      "text/plain": [
       "Text(0.5, 1.0, 'Cluster Distribution by Time of Day')"
      ]
     },
     "execution_count": 108,
     "metadata": {},
     "output_type": "execute_result"
    },
    {
     "data": {
      "text/plain": [
       "Text(0.5, 0, 'Time of Day')"
      ]
     },
     "execution_count": 108,
     "metadata": {},
     "output_type": "execute_result"
    },
    {
     "data": {
      "text/plain": [
       "Text(0, 0.5, 'Number of Pickups')"
      ]
     },
     "execution_count": 108,
     "metadata": {},
     "output_type": "execute_result"
    },
    {
     "data": {
      "text/plain": [
       "<matplotlib.legend.Legend at 0x2bd82c9bc10>"
      ]
     },
     "execution_count": 108,
     "metadata": {},
     "output_type": "execute_result"
    },
    {
     "data": {
      "image/png": "[encoded data removed]",
      "text/plain": [
       "<Figure size 1200x600 with 1 Axes>"
      ]
     },
     "metadata": {
      "image/png": {
       "height": 551,
       "width": 1026
      }
     },
     "output_type": "display_data"
    }
   ],
   "source": [
    "from pyspark.sql.functions import col, to_timestamp, hour, udf\n",
    "from pyspark.sql.types import StringType\n",
    "import matplotlib.pyplot as plt\n",
    "import seaborn as sns\n",
    "\n",
    "# Step 1: Convert `dt` column to timestamp format\n",
    "test_preds = test_preds.withColumn(\"dt\", to_timestamp(col(\"dt\"), \"M/d/yyyy H:mm:ss\"))\n",
    "\n",
    "# Step 2: Extract the `hour` column\n",
    "test_preds = test_preds.withColumn(\"hour\", hour(col(\"dt\")))\n",
    "\n",
    "# Step 3: Add `time_of_day` column\n",
    "def get_time_of_day(hour):\n",
    "    if 5 <= hour < 12:\n",
    "        return \"Morning\"\n",
    "    elif 12 <= hour < 17:\n",
    "        return \"Afternoon\"\n",
    "    elif 17 <= hour < 21:\n",
    "        return \"Evening\"\n",
    "    else:\n",
    "        return \"Night\"\n",
    "\n",
    "# Register UDF for time of day\n",
    "time_of_day_udf = udf(get_time_of_day, StringType())\n",
    "test_preds = test_preds.withColumn(\"time_of_day\", time_of_day_udf(col(\"hour\")))\n",
    "\n",
    "# Step 4: Register DataFrame as a temporary SQL view\n",
    "test_preds.createOrReplaceTempView(\"test_preds\")\n",
    "\n",
    "# Step 5: Analyze cluster stability across time periods\n",
    "cluster_stability_df = spark.sql(\n",
    "    \"\"\"\n",
    "    SELECT time_of_day, cluster, COUNT(*) AS count\n",
    "    FROM test_preds\n",
    "    GROUP BY time_of_day, cluster\n",
    "    ORDER BY time_of_day, count DESC\n",
    "    \"\"\"\n",
    ")\n",
    "\n",
    "# Step 6: Show the results\n",
    "cluster_stability_df.show()\n",
    "\n",
    "# Step 7: Convert the Spark DataFrame to Pandas for visualization\n",
    "cluster_stability_pd = cluster_stability_df.toPandas()\n",
    "\n",
    "# Step 8: Plot cluster distribution by time of day\n",
    "plt.figure(figsize=(12, 6))\n",
    "sns.barplot(x=\"time_of_day\", y=\"count\", hue=\"cluster\", data=cluster_stability_pd, palette=\"tab20\")\n",
    "plt.title(\"Cluster Distribution by Time of Day\")\n",
    "plt.xlabel(\"Time of Day\")\n",
    "plt.ylabel(\"Number of Pickups\")\n",
    "plt.legend(title=\"Cluster\")\n",
    "plt.show()\n"
   ]
  },
  {
   "cell_type": "markdown",
   "metadata": {},
   "source": [
    "## 8. Bisecting k-means\n",
    "`Bisecting k-means` is a variant of `k-means`. The core difference is that instead of clustering points by starting \"bottom-up\" and assigning a bunch of different groups in the data, this is a top-down clustering method. This means that it will start by creating a single group and then splitting that group into smaller groups in order to end up with the `k` number of clusters specified by the user. This is usually a faster method than `k-means` and will yield different results."
   ]
  },
  {
   "cell_type": "code",
   "execution_count": 92,
   "metadata": {},
   "outputs": [],
   "source": [
    "bkm = BisectingKMeans(featuresCol='features', predictionCol='cluster', maxIter=20, k=8)"
   ]
  },
  {
   "cell_type": "code",
   "execution_count": 93,
   "metadata": {},
   "outputs": [
    {
     "data": {
      "text/plain": [
       "\"distanceMeasure: the distance measure. Supported options: 'euclidean' and 'cosine'. (default: euclidean)\\nfeaturesCol: features column name. (default: features, current: features)\\nk: The desired number of leaf clusters. Must be > 1. (default: 4, current: 8)\\nmaxIter: max number of iterations (>= 0). (default: 20, current: 20)\\nminDivisibleClusterSize: The minimum number of points (if >= 1.0) or the minimum proportion of points (if < 1.0) of a divisible cluster. (default: 1.0)\\npredictionCol: prediction column name. (default: prediction, current: cluster)\\nseed: random seed. (default: -6311319853468918464)\\nweightCol: weight column name. If this is not set or empty, we treat all instance weights as 1.0. (undefined)\""
      ]
     },
     "execution_count": 93,
     "metadata": {},
     "output_type": "execute_result"
    }
   ],
   "source": [
    "bkm.explainParams()"
   ]
  },
  {
   "cell_type": "code",
   "execution_count": 94,
   "metadata": {},
   "outputs": [],
   "source": [
    "bkmModel = bkm.fit(train_df)"
   ]
  },
  {
   "cell_type": "code",
   "execution_count": 95,
   "metadata": {},
   "outputs": [
    {
     "name": "stdout",
     "output_type": "stream",
     "text": [
      "+----------------+-------+--------+------+------------------+-------+\n",
      "|              dt|    lat|     lon|  Base|          features|cluster|\n",
      "+----------------+-------+--------+------+------------------+-------+\n",
      "|7/1/2014 0:04:00|40.7107|-73.8444|B02598|[40.7107,-73.8444]|      6|\n",
      "|7/1/2014 0:05:00|40.7605|-73.9994|B02512|[40.7605,-73.9994]|      2|\n",
      "|7/1/2014 0:06:00|40.7513|-74.0066|B02598|[40.7513,-74.0066]|      2|\n",
      "|7/1/2014 0:06:00|40.7636|-73.9755|B02598|[40.7636,-73.9755]|      2|\n",
      "|7/1/2014 0:09:00|40.7635|-73.9793|B02512|[40.7635,-73.9793]|      2|\n",
      "|7/1/2014 0:10:00|40.7207|-73.9975|B02598|[40.7207,-73.9975]|      0|\n",
      "|7/1/2014 0:13:00| 40.662|-73.9872|B02598| [40.662,-73.9872]|      1|\n",
      "|7/1/2014 0:15:00|40.7708|-73.9619|B02598|[40.7708,-73.9619]|      3|\n",
      "|7/1/2014 0:17:00|40.7224|-74.0038|B02598|[40.7224,-74.0038]|      0|\n",
      "|7/1/2014 0:18:00|40.7664|-73.9663|B02598|[40.7664,-73.9663]|      2|\n",
      "+----------------+-------+--------+------+------------------+-------+\n",
      "only showing top 10 rows\n",
      "\n"
     ]
    }
   ],
   "source": [
    "bkmModel.transform(test_df).show(10)"
   ]
  },
  {
   "cell_type": "code",
   "execution_count": 96,
   "metadata": {},
   "outputs": [
    {
     "data": {
      "text/plain": [
       "[array([ 40.7267, -74.005 ]),\n",
       " array([ 40.6867, -73.9663]),\n",
       " array([ 40.7571, -73.9807]),\n",
       " array([ 40.7876, -73.9527]),\n",
       " array([ 40.6554, -73.7822]),\n",
       " array([ 40.764 , -73.4972]),\n",
       " array([ 40.7686, -73.8646]),\n",
       " array([ 40.9813, -73.7729])]"
      ]
     },
     "execution_count": 96,
     "metadata": {},
     "output_type": "execute_result"
    }
   ],
   "source": [
    "centriods  = bkmModel.clusterCenters()\n",
    "centriods"
   ]
  },
  {
   "cell_type": "code",
   "execution_count": 97,
   "metadata": {},
   "outputs": [
    {
     "data": {
      "text/html": [
       "<div>\n",
       "<style scoped>\n",
       "    .dataframe tbody tr th:only-of-type {\n",
       "        vertical-align: middle;\n",
       "    }\n",
       "\n",
       "    .dataframe tbody tr th {\n",
       "        vertical-align: top;\n",
       "    }\n",
       "\n",
       "    .dataframe thead th {\n",
       "        text-align: right;\n",
       "    }\n",
       "</style>\n",
       "<table border=\"1\" class=\"dataframe\">\n",
       "  <thead>\n",
       "    <tr style=\"text-align: right;\">\n",
       "      <th></th>\n",
       "      <th>Latitude</th>\n",
       "      <th>Longitude</th>\n",
       "    </tr>\n",
       "  </thead>\n",
       "  <tbody>\n",
       "    <tr>\n",
       "      <th>0</th>\n",
       "      <td>40.726718</td>\n",
       "      <td>-74.005049</td>\n",
       "    </tr>\n",
       "    <tr>\n",
       "      <th>1</th>\n",
       "      <td>40.686724</td>\n",
       "      <td>-73.966281</td>\n",
       "    </tr>\n",
       "    <tr>\n",
       "      <th>2</th>\n",
       "      <td>40.757091</td>\n",
       "      <td>-73.980724</td>\n",
       "    </tr>\n",
       "    <tr>\n",
       "      <th>3</th>\n",
       "      <td>40.787609</td>\n",
       "      <td>-73.952681</td>\n",
       "    </tr>\n",
       "    <tr>\n",
       "      <th>4</th>\n",
       "      <td>40.655409</td>\n",
       "      <td>-73.782194</td>\n",
       "    </tr>\n",
       "    <tr>\n",
       "      <th>5</th>\n",
       "      <td>40.763969</td>\n",
       "      <td>-73.497205</td>\n",
       "    </tr>\n",
       "    <tr>\n",
       "      <th>6</th>\n",
       "      <td>40.768595</td>\n",
       "      <td>-73.864626</td>\n",
       "    </tr>\n",
       "    <tr>\n",
       "      <th>7</th>\n",
       "      <td>40.981297</td>\n",
       "      <td>-73.772854</td>\n",
       "    </tr>\n",
       "  </tbody>\n",
       "</table>\n",
       "</div>"
      ],
      "text/plain": [
       "    Latitude  Longitude\n",
       "0  40.726718 -74.005049\n",
       "1  40.686724 -73.966281\n",
       "2  40.757091 -73.980724\n",
       "3  40.787609 -73.952681\n",
       "4  40.655409 -73.782194\n",
       "5  40.763969 -73.497205\n",
       "6  40.768595 -73.864626\n",
       "7  40.981297 -73.772854"
      ]
     },
     "execution_count": 97,
     "metadata": {},
     "output_type": "execute_result"
    }
   ],
   "source": [
    "center_locations = pd.DataFrame(centriods)\n",
    "center_locations.columns=[\"Latitude\", \"Longitude\"]\n",
    "center_locations"
   ]
  },
  {
   "cell_type": "code",
   "execution_count": 98,
   "metadata": {},
   "outputs": [
    {
     "data": {
      "text/plain": [
       "<folium.map.Marker at 0x2bd814ea470>"
      ]
     },
     "execution_count": 98,
     "metadata": {},
     "output_type": "execute_result"
    },
    {
     "data": {
      "text/plain": [
       "<folium.map.Marker at 0x2bd814e97e0>"
      ]
     },
     "execution_count": 98,
     "metadata": {},
     "output_type": "execute_result"
    },
    {
     "data": {
      "text/plain": [
       "<folium.map.Marker at 0x2bd814eaad0>"
      ]
     },
     "execution_count": 98,
     "metadata": {},
     "output_type": "execute_result"
    },
    {
     "data": {
      "text/plain": [
       "<folium.map.Marker at 0x2bd813bac20>"
      ]
     },
     "execution_count": 98,
     "metadata": {},
     "output_type": "execute_result"
    },
    {
     "data": {
      "text/plain": [
       "<folium.map.Marker at 0x2bd813ba440>"
      ]
     },
     "execution_count": 98,
     "metadata": {},
     "output_type": "execute_result"
    },
    {
     "data": {
      "text/plain": [
       "<folium.map.Marker at 0x2bd90f03b20>"
      ]
     },
     "execution_count": 98,
     "metadata": {},
     "output_type": "execute_result"
    },
    {
     "data": {
      "text/plain": [
       "<folium.map.Marker at 0x2bd813ba710>"
      ]
     },
     "execution_count": 98,
     "metadata": {},
     "output_type": "execute_result"
    },
    {
     "data": {
      "text/plain": [
       "<folium.map.Marker at 0x2bd814a68c0>"
      ]
     },
     "execution_count": 98,
     "metadata": {},
     "output_type": "execute_result"
    },
    {
     "data": {
      "text/html": [
       "<div style=\"width:100%;\"><div style=\"position:relative;width:100%;height:0;padding-bottom:60%;\"><span style=\"color:#565656\">Make this Notebook Trusted to load map: File -> Trust Notebook</span><iframe srcdoc=\"&lt;!DOCTYPE html&gt;\n",
       "&lt;html&gt;\n",
       "&lt;head&gt;\n",
       "    \n",
       "    &lt;meta http-equiv=&quot;content-type&quot; content=&quot;text/html; charset=UTF-8&quot; /&gt;\n",
       "    \n",
       "        &lt;script&gt;\n",
       "            L_NO_TOUCH = false;\n",
       "            L_DISABLE_3D = false;\n",
       "        &lt;/script&gt;\n",
       "    \n",
       "    &lt;style&gt;html, body {width: 100%;height: 100%;margin: 0;padding: 0;}&lt;/style&gt;\n",
       "    &lt;style&gt;#map {position:absolute;top:0;bottom:0;right:0;left:0;}&lt;/style&gt;\n",
       "    &lt;script src=&quot;https://cdn.jsdelivr.net/npm/leaflet@1.9.3/dist/leaflet.js&quot;&gt;&lt;/script&gt;\n",
       "    &lt;script src=&quot;https://code.jquery.com/jquery-3.7.1.min.js&quot;&gt;&lt;/script&gt;\n",
       "    &lt;script src=&quot;https://cdn.jsdelivr.net/npm/bootstrap@5.2.2/dist/js/bootstrap.bundle.min.js&quot;&gt;&lt;/script&gt;\n",
       "    &lt;script src=&quot;https://cdnjs.cloudflare.com/ajax/libs/Leaflet.awesome-markers/2.0.2/leaflet.awesome-markers.js&quot;&gt;&lt;/script&gt;\n",
       "    &lt;link rel=&quot;stylesheet&quot; href=&quot;https://cdn.jsdelivr.net/npm/leaflet@1.9.3/dist/leaflet.css&quot;/&gt;\n",
       "    &lt;link rel=&quot;stylesheet&quot; href=&quot;https://cdn.jsdelivr.net/npm/bootstrap@5.2.2/dist/css/bootstrap.min.css&quot;/&gt;\n",
       "    &lt;link rel=&quot;stylesheet&quot; href=&quot;https://netdna.bootstrapcdn.com/bootstrap/3.0.0/css/bootstrap-glyphicons.css&quot;/&gt;\n",
       "    &lt;link rel=&quot;stylesheet&quot; href=&quot;https://cdn.jsdelivr.net/npm/@fortawesome/fontawesome-free@6.2.0/css/all.min.css&quot;/&gt;\n",
       "    &lt;link rel=&quot;stylesheet&quot; href=&quot;https://cdnjs.cloudflare.com/ajax/libs/Leaflet.awesome-markers/2.0.2/leaflet.awesome-markers.css&quot;/&gt;\n",
       "    &lt;link rel=&quot;stylesheet&quot; href=&quot;https://cdn.jsdelivr.net/gh/python-visualization/folium/folium/templates/leaflet.awesome.rotate.min.css&quot;/&gt;\n",
       "    \n",
       "            &lt;meta name=&quot;viewport&quot; content=&quot;width=device-width,\n",
       "                initial-scale=1.0, maximum-scale=1.0, user-scalable=no&quot; /&gt;\n",
       "            &lt;style&gt;\n",
       "                #map_bacef87ce8a5e5e427d817839a2220ed {\n",
       "                    position: relative;\n",
       "                    width: 100.0%;\n",
       "                    height: 100.0%;\n",
       "                    left: 0.0%;\n",
       "                    top: 0.0%;\n",
       "                }\n",
       "                .leaflet-container { font-size: 1rem; }\n",
       "            &lt;/style&gt;\n",
       "        \n",
       "&lt;/head&gt;\n",
       "&lt;body&gt;\n",
       "    \n",
       "    \n",
       "            &lt;div class=&quot;folium-map&quot; id=&quot;map_bacef87ce8a5e5e427d817839a2220ed&quot; &gt;&lt;/div&gt;\n",
       "        \n",
       "&lt;/body&gt;\n",
       "&lt;script&gt;\n",
       "    \n",
       "    \n",
       "            var map_bacef87ce8a5e5e427d817839a2220ed = L.map(\n",
       "                &quot;map_bacef87ce8a5e5e427d817839a2220ed&quot;,\n",
       "                {\n",
       "                    center: [40.79658011772687, -73.87341741832425],\n",
       "                    crs: L.CRS.EPSG3857,\n",
       "                    zoom: 10,\n",
       "                    zoomControl: true,\n",
       "                    preferCanvas: false,\n",
       "                }\n",
       "            );\n",
       "\n",
       "            \n",
       "\n",
       "        \n",
       "    \n",
       "            var tile_layer_6a71ce206066e3f49f45821b5489564e = L.tileLayer(\n",
       "                &quot;https://tile.openstreetmap.org/{z}/{x}/{y}.png&quot;,\n",
       "                {&quot;attribution&quot;: &quot;\\u0026copy; \\u003ca href=\\&quot;https://www.openstreetmap.org/copyright\\&quot;\\u003eOpenStreetMap\\u003c/a\\u003e contributors&quot;, &quot;detectRetina&quot;: false, &quot;maxNativeZoom&quot;: 19, &quot;maxZoom&quot;: 19, &quot;minZoom&quot;: 0, &quot;noWrap&quot;: false, &quot;opacity&quot;: 1, &quot;subdomains&quot;: &quot;abc&quot;, &quot;tms&quot;: false}\n",
       "            );\n",
       "        \n",
       "    \n",
       "            tile_layer_6a71ce206066e3f49f45821b5489564e.addTo(map_bacef87ce8a5e5e427d817839a2220ed);\n",
       "        \n",
       "    \n",
       "            var marker_cb73b73918fea5f38d3f5514698d0b38 = L.marker(\n",
       "                [40.726717951784785, -74.00504883112266],\n",
       "                {}\n",
       "            ).addTo(map_bacef87ce8a5e5e427d817839a2220ed);\n",
       "        \n",
       "    \n",
       "        var popup_b60c1a979fb3d9b62d795839f0c7af07 = L.popup({&quot;maxWidth&quot;: &quot;100%&quot;});\n",
       "\n",
       "        \n",
       "            \n",
       "                var html_9003d5a6332f8e5a7eb0c12d48ce1e71 = $(`&lt;div id=&quot;html_9003d5a6332f8e5a7eb0c12d48ce1e71&quot; style=&quot;width: 100.0%; height: 100.0%;&quot;&gt;[40.726717951784785, -74.00504883112266]&lt;/div&gt;`)[0];\n",
       "                popup_b60c1a979fb3d9b62d795839f0c7af07.setContent(html_9003d5a6332f8e5a7eb0c12d48ce1e71);\n",
       "            \n",
       "        \n",
       "\n",
       "        marker_cb73b73918fea5f38d3f5514698d0b38.bindPopup(popup_b60c1a979fb3d9b62d795839f0c7af07)\n",
       "        ;\n",
       "\n",
       "        \n",
       "    \n",
       "    \n",
       "            var marker_e1195d1eadc21dbaae17bb2aa3698078 = L.marker(\n",
       "                [40.686724077872455, -73.96628056781955],\n",
       "                {}\n",
       "            ).addTo(map_bacef87ce8a5e5e427d817839a2220ed);\n",
       "        \n",
       "    \n",
       "        var popup_55e1e67c58ccc5e742f360bededf1457 = L.popup({&quot;maxWidth&quot;: &quot;100%&quot;});\n",
       "\n",
       "        \n",
       "            \n",
       "                var html_ca99279e0947545afebd3019d31c2503 = $(`&lt;div id=&quot;html_ca99279e0947545afebd3019d31c2503&quot; style=&quot;width: 100.0%; height: 100.0%;&quot;&gt;[40.686724077872455, -73.96628056781955]&lt;/div&gt;`)[0];\n",
       "                popup_55e1e67c58ccc5e742f360bededf1457.setContent(html_ca99279e0947545afebd3019d31c2503);\n",
       "            \n",
       "        \n",
       "\n",
       "        marker_e1195d1eadc21dbaae17bb2aa3698078.bindPopup(popup_55e1e67c58ccc5e742f360bededf1457)\n",
       "        ;\n",
       "\n",
       "        \n",
       "    \n",
       "    \n",
       "            var marker_92d5ba07954fcc0ab2df3ca66c431333 = L.marker(\n",
       "                [40.7570906713618, -73.98072439461338],\n",
       "                {}\n",
       "            ).addTo(map_bacef87ce8a5e5e427d817839a2220ed);\n",
       "        \n",
       "    \n",
       "        var popup_e4f9062c5978979f2bafe5b3ed3ec1a6 = L.popup({&quot;maxWidth&quot;: &quot;100%&quot;});\n",
       "\n",
       "        \n",
       "            \n",
       "                var html_d6aa85bb0c4c5374775fbab7834ab96b = $(`&lt;div id=&quot;html_d6aa85bb0c4c5374775fbab7834ab96b&quot; style=&quot;width: 100.0%; height: 100.0%;&quot;&gt;[40.7570906713618, -73.98072439461338]&lt;/div&gt;`)[0];\n",
       "                popup_e4f9062c5978979f2bafe5b3ed3ec1a6.setContent(html_d6aa85bb0c4c5374775fbab7834ab96b);\n",
       "            \n",
       "        \n",
       "\n",
       "        marker_92d5ba07954fcc0ab2df3ca66c431333.bindPopup(popup_e4f9062c5978979f2bafe5b3ed3ec1a6)\n",
       "        ;\n",
       "\n",
       "        \n",
       "    \n",
       "    \n",
       "            var marker_26e09a2d5acfeacee77d914fbbe7c574 = L.marker(\n",
       "                [40.78760901056179, -73.95268066231485],\n",
       "                {}\n",
       "            ).addTo(map_bacef87ce8a5e5e427d817839a2220ed);\n",
       "        \n",
       "    \n",
       "        var popup_4b2ac20ca51d3c516b870aa9686a0c4c = L.popup({&quot;maxWidth&quot;: &quot;100%&quot;});\n",
       "\n",
       "        \n",
       "            \n",
       "                var html_a135dd333628728ce2a813cd7cfff613 = $(`&lt;div id=&quot;html_a135dd333628728ce2a813cd7cfff613&quot; style=&quot;width: 100.0%; height: 100.0%;&quot;&gt;[40.78760901056179, -73.95268066231485]&lt;/div&gt;`)[0];\n",
       "                popup_4b2ac20ca51d3c516b870aa9686a0c4c.setContent(html_a135dd333628728ce2a813cd7cfff613);\n",
       "            \n",
       "        \n",
       "\n",
       "        marker_26e09a2d5acfeacee77d914fbbe7c574.bindPopup(popup_4b2ac20ca51d3c516b870aa9686a0c4c)\n",
       "        ;\n",
       "\n",
       "        \n",
       "    \n",
       "    \n",
       "            var marker_dbcbe6005e1ecfc08993d63171bd2151 = L.marker(\n",
       "                [40.65540919189603, -73.78219410880958],\n",
       "                {}\n",
       "            ).addTo(map_bacef87ce8a5e5e427d817839a2220ed);\n",
       "        \n",
       "    \n",
       "        var popup_61a5710d7c336abf1d96d7cb93e9bab0 = L.popup({&quot;maxWidth&quot;: &quot;100%&quot;});\n",
       "\n",
       "        \n",
       "            \n",
       "                var html_1e11e2c2f4438f0ce0c398835e2a105f = $(`&lt;div id=&quot;html_1e11e2c2f4438f0ce0c398835e2a105f&quot; style=&quot;width: 100.0%; height: 100.0%;&quot;&gt;[40.65540919189603, -73.78219410880958]&lt;/div&gt;`)[0];\n",
       "                popup_61a5710d7c336abf1d96d7cb93e9bab0.setContent(html_1e11e2c2f4438f0ce0c398835e2a105f);\n",
       "            \n",
       "        \n",
       "\n",
       "        marker_dbcbe6005e1ecfc08993d63171bd2151.bindPopup(popup_61a5710d7c336abf1d96d7cb93e9bab0)\n",
       "        ;\n",
       "\n",
       "        \n",
       "    \n",
       "    \n",
       "            var marker_b365913c4955c72cb9d524eb5abe1469 = L.marker(\n",
       "                [40.76396868743048, -73.49720522803116],\n",
       "                {}\n",
       "            ).addTo(map_bacef87ce8a5e5e427d817839a2220ed);\n",
       "        \n",
       "    \n",
       "        var popup_ed1e602784b84033e015b11f99e234d1 = L.popup({&quot;maxWidth&quot;: &quot;100%&quot;});\n",
       "\n",
       "        \n",
       "            \n",
       "                var html_d4a3214a4e01704bdd069318d6adb32d = $(`&lt;div id=&quot;html_d4a3214a4e01704bdd069318d6adb32d&quot; style=&quot;width: 100.0%; height: 100.0%;&quot;&gt;[40.76396868743048, -73.49720522803116]&lt;/div&gt;`)[0];\n",
       "                popup_ed1e602784b84033e015b11f99e234d1.setContent(html_d4a3214a4e01704bdd069318d6adb32d);\n",
       "            \n",
       "        \n",
       "\n",
       "        marker_b365913c4955c72cb9d524eb5abe1469.bindPopup(popup_ed1e602784b84033e015b11f99e234d1)\n",
       "        ;\n",
       "\n",
       "        \n",
       "    \n",
       "    \n",
       "            var marker_c929f537fd03ef075500815eb632207f = L.marker(\n",
       "                [40.76859503340938, -73.86462611636246],\n",
       "                {}\n",
       "            ).addTo(map_bacef87ce8a5e5e427d817839a2220ed);\n",
       "        \n",
       "    \n",
       "        var popup_e26a7cccc9a4e55ca6d3d2ad4e02244d = L.popup({&quot;maxWidth&quot;: &quot;100%&quot;});\n",
       "\n",
       "        \n",
       "            \n",
       "                var html_15edbce06256311b926191c61d70f2ca = $(`&lt;div id=&quot;html_15edbce06256311b926191c61d70f2ca&quot; style=&quot;width: 100.0%; height: 100.0%;&quot;&gt;[40.76859503340938, -73.86462611636246]&lt;/div&gt;`)[0];\n",
       "                popup_e26a7cccc9a4e55ca6d3d2ad4e02244d.setContent(html_15edbce06256311b926191c61d70f2ca);\n",
       "            \n",
       "        \n",
       "\n",
       "        marker_c929f537fd03ef075500815eb632207f.bindPopup(popup_e26a7cccc9a4e55ca6d3d2ad4e02244d)\n",
       "        ;\n",
       "\n",
       "        \n",
       "    \n",
       "    \n",
       "            var marker_f3b0cc221d50e05657d9e9a781b918d3 = L.marker(\n",
       "                [40.98129654295882, -73.77285439755974],\n",
       "                {}\n",
       "            ).addTo(map_bacef87ce8a5e5e427d817839a2220ed);\n",
       "        \n",
       "    \n",
       "        var popup_1244c6c5962a2a8923d70c77429d88d3 = L.popup({&quot;maxWidth&quot;: &quot;100%&quot;});\n",
       "\n",
       "        \n",
       "            \n",
       "                var html_012cab34068cbf6bf3ce1f5b5cb8ee44 = $(`&lt;div id=&quot;html_012cab34068cbf6bf3ce1f5b5cb8ee44&quot; style=&quot;width: 100.0%; height: 100.0%;&quot;&gt;[40.98129654295882, -73.77285439755974]&lt;/div&gt;`)[0];\n",
       "                popup_1244c6c5962a2a8923d70c77429d88d3.setContent(html_012cab34068cbf6bf3ce1f5b5cb8ee44);\n",
       "            \n",
       "        \n",
       "\n",
       "        marker_f3b0cc221d50e05657d9e9a781b918d3.bindPopup(popup_1244c6c5962a2a8923d70c77429d88d3)\n",
       "        ;\n",
       "\n",
       "        \n",
       "    \n",
       "&lt;/script&gt;\n",
       "&lt;/html&gt;\" style=\"position:absolute;width:100%;height:100%;left:0;top:0;border:none !important;\" allowfullscreen webkitallowfullscreen mozallowfullscreen></iframe></div></div>"
      ],
      "text/plain": [
       "<folium.folium.Map at 0x2bd814e87f0>"
      ]
     },
     "execution_count": 98,
     "metadata": {},
     "output_type": "execute_result"
    }
   ],
   "source": [
    "# Converting centroid into lists\n",
    "centroid = center_locations.values.tolist()\n",
    "# Plotting the centroids on google map using Folium library.\n",
    "map = folium.Map(location=[40.79658011772687, -73.87341741832425], zoom_start = 10)\n",
    "for point in range(0, len(centroid)):\n",
    "    folium.Marker(centroid[point], popup = centroid[point]).add_to(map)\n",
    "map"
   ]
  },
  {
   "cell_type": "markdown",
   "metadata": {},
   "source": [
    "### 8.1 Bisecting k-means Summary\n",
    "\n",
    "`Bisecting k-means` includes a summary class that we can use to evaluate our model, that is largely the same as the `k-means` summary. This includes information about the clusters created, as well as their relative sizes (number of examples):"
   ]
  },
  {
   "cell_type": "code",
   "execution_count": 99,
   "metadata": {},
   "outputs": [
    {
     "name": "stdout",
     "output_type": "stream",
     "text": [
      "[257512, 86295, 258430, 81804, 21965, 1798, 24544, 1967]\n"
     ]
    }
   ],
   "source": [
    "print(bkmModel.summary.clusterSizes) # number of points"
   ]
  },
  {
   "cell_type": "code",
   "execution_count": 100,
   "metadata": {},
   "outputs": [
    {
     "data": {
      "text/plain": [
       "914.0430931431493"
      ]
     },
     "execution_count": 100,
     "metadata": {},
     "output_type": "execute_result"
    }
   ],
   "source": [
    "bkmModel.computeCost(train_df)"
   ]
  },
  {
   "cell_type": "code",
   "execution_count": 101,
   "metadata": {},
   "outputs": [
    {
     "name": "stdout",
     "output_type": "stream",
     "text": [
      "Bisecting k-means Cluster Centers: \n",
      "[ 40.7267 -74.005 ]\n",
      "[ 40.6867 -73.9663]\n",
      "[ 40.7571 -73.9807]\n",
      "[ 40.7876 -73.9527]\n",
      "[ 40.6554 -73.7822]\n",
      "[ 40.764  -73.4972]\n",
      "[ 40.7686 -73.8646]\n",
      "[ 40.9813 -73.7729]\n"
     ]
    }
   ],
   "source": [
    "print(\"Bisecting k-means Cluster Centers: \")\n",
    "for center in bkmModel.clusterCenters():\n",
    "    print(center)"
   ]
  },
  {
   "cell_type": "code",
   "execution_count": 85,
   "metadata": {},
   "outputs": [],
   "source": [
    "spark.stop()"
   ]
  },
  {
   "cell_type": "code",
   "execution_count": null,
   "metadata": {},
   "outputs": [],
   "source": []
  }
 ],
 "metadata": {
  "kernelspec": {
   "display_name": "Python 3 (ipykernel)",
   "language": "python",
   "name": "python3"
  },
  "language_info": {
   "codemirror_mode": {
    "name": "ipython",
    "version": 3
   },
   "file_extension": ".py",
   "mimetype": "text/x-python",
   "name": "python",
   "nbconvert_exporter": "python",
   "pygments_lexer": "ipython3",
   "version": "3.10.0"
  }
 },
 "nbformat": 4,
 "nbformat_minor": 4
}
